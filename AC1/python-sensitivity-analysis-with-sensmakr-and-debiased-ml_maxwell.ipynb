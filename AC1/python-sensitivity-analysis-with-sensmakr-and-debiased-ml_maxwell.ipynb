{
  "cells": [
    {
      "cell_type": "markdown",
      "id": "0",
      "metadata": {
        "id": "0",
        "papermill": {
          "duration": 0.024232,
          "end_time": "2021-04-03T12:55:25.038730",
          "exception": false,
          "start_time": "2021-04-03T12:55:25.014498",
          "status": "completed"
        },
        "tags": []
      },
      "source": [
        "# Sensitivity Analysis for Unobserved Confounder with DML.\n",
        "\n",
        "Here we experiment with sensitivity analysis under unobserved confounding, both manually and with [sensitivity.py](https://github.com/vsyrgkanis/dml_sensitivity_python)."
      ]
    },
    {
      "cell_type": "markdown",
      "id": "1",
      "metadata": {
        "id": "1",
        "papermill": {
          "duration": 0.019939,
          "end_time": "2021-04-03T12:55:25.120184",
          "exception": false,
          "start_time": "2021-04-03T12:55:25.100245",
          "status": "completed"
        },
        "tags": []
      },
      "source": [
        "## Partially Linear SEM\n",
        "\n",
        "Consider the SEM\n",
        "\\begin{eqnarray*}\n",
        "Y & := & \\alpha D + \\delta A + f_Y(X) + \\epsilon_Y,  \\\\\n",
        "D & := & \\gamma A + f_D(X) + \\epsilon_D, \\\\\n",
        "A & : =  & f_A(X) + \\epsilon_A, \\\\\n",
        "X & := &  \\epsilon_X,\n",
        "\\end{eqnarray*}\n",
        "where, conditional on $X$, $\\epsilon_Y, \\epsilon_D, \\epsilon_A$ are mean zero\n",
        "and mutually uncorrelated. We further normalize\n",
        "$$\n",
        "E[\\epsilon_A^2] =1.\n",
        "$$\n",
        "The key structural\n",
        "parameter is $\\alpha$: $$\\alpha = \\partial_d Y(d)$$\n",
        "where $$Y(d) := (Y: do (D=d)).$$\n",
        "\n",
        "To give context to our example, we can interpret $Y$ as earnings,\n",
        "$D$ as education, $A$ as ability, and $X$ as a set of observed background variables. In this example, we can interpret $\\alpha$ as the returns to schooling.\n",
        "\n",
        "We start by applying the partialling out operator to get rid of the $X$'s in all of the equations. Define the partialling out operation of any random vector $V$ with respect to another random vector $X$ as the residual that is left after subtracting the best predictor of $V$ given $X$:\n",
        "$$\\tilde V = V - E [V \\mid X].$$  \n",
        "If $f$'s are linear, we can replace $E [V \\mid X]$\n",
        "by linear projection.  After partialling out, we have a simplified system:\n",
        "\\begin{eqnarray*}\n",
        "\\tilde Y & := & \\alpha \\tilde D + \\delta \\tilde A + \\epsilon_Y,  \\\\\n",
        "\\tilde D & := & \\gamma \\tilde A + \\epsilon_D, \\\\\n",
        "\\tilde A & : = & \\epsilon_A,\n",
        "\\end{eqnarray*}\n",
        "where $\\epsilon_Y$, $\\epsilon_D$, and $\\epsilon_A$ are uncorrelated.\n",
        "\n",
        "Then the projection of $\\tilde Y$ on $\\tilde D$ recovers\n",
        "$$\n",
        "\\beta = E [\\tilde Y \\tilde D]/ E [\\tilde D^2] = \\alpha +  \\phi,\n",
        "$$\n",
        "where\n",
        "$$\n",
        "\\phi =  \\delta \\gamma/ E \\left[(\\gamma^2 + \\epsilon^2_D)\\right],\n",
        "$$\n",
        "is the omitted confounder bias or omitted variable bias.\n",
        "\n",
        "The formula follows from inserting the expression for $\\tilde D$ into the definition of $\\beta$ and then simplifying the resulting expression using the assumptions on the $\\epsilon$'s.\n",
        "\n",
        "We can use this formula to bound $\\phi$ directly by making assumptions on the size of $\\delta$\n",
        "and $\\gamma$.  An alternative approach can be based on the following characterization,\n",
        "based on partial $R^2$'s.  This characterization essentially follows\n",
        "from Cinelli and Hazlett, with the slight difference that we have adapted\n",
        "the result to the partially linear model.\n",
        "\n",
        "*Theorem* [Omitted Confounder Bias in Terms of Partial $R^2$'s]\n",
        "\n",
        "In the partially linear SEM setting above,\n",
        "$$\n",
        "\\phi^2 = \\frac{R^2_{\\tilde Y \\sim \\tilde A \\mid \\tilde D} R^2_{\\tilde D \\sim \\tilde A} }{ (1 - R^2_{\\tilde D \\sim \\tilde A}) } \\\n",
        "\\frac{E \\left[ (\\tilde Y - \\beta \\tilde D)^2 \\right] }{E \\left[ ( \\tilde D )^2 \\right]},\n",
        "$$\n",
        "where $R^2_{V \\sim W \\mid X}$ denotes the population $R^2$ in the linear regression of $V$ on $W$, after partialling out $X$ from $V$ and $W$ linearly.\n",
        "\n",
        "\n",
        "Therefore, if we place bounds on how much of the variation in $\\tilde Y$ and in $\\tilde D$\n",
        "the unobserved confounder $\\tilde A$ is able to explain, we can bound the omitted confounder bias by $$\\sqrt{\\phi^2}.$$\n"
      ]
    },
    {
      "cell_type": "markdown",
      "id": "2",
      "metadata": {
        "id": "2",
        "papermill": {
          "duration": 0.020014,
          "end_time": "2021-04-03T12:55:25.160190",
          "exception": false,
          "start_time": "2021-04-03T12:55:25.140176",
          "status": "completed"
        },
        "tags": []
      },
      "source": [
        "# Empirical Example\n",
        "\n",
        "We consider an empirical example based on data surrounding the Darfur war. Specifically, we are interested in the effect of having experienced direct war violence on attitudes towards peace. Data is described here\n",
        "https://cran.r-project.org/web/packages/sensemakr/vignettes/sensemakr.html\n",
        "\n",
        "The main outcome is attitude towards peace -- ``peacefactor``.\n",
        "The key variable of interest is whether the responders were directly harmed (``directlyharmed``).\n",
        "We want to know if being directly harmed in the conflict causes people to support peace-enforcing measures.\n",
        "The measured confounders include dummy variables ``female``, ``farmer``, ``herder``, ``pastvoted``, along with ``age`` and household size (``hhsize``).\n",
        "There is also a village indicator. We deal with village by and partialling out a full set of village dummy variables before conducting\n",
        "the analysis. The standard errors will be clustered at the village level."
      ]
    },
    {
      "cell_type": "markdown",
      "id": "3",
      "metadata": {
        "id": "3"
      },
      "source": [
        "\n",
        "## Outline\n",
        "\n",
        "We will:\n",
        "- mimic the partialling out procedure with machine learning tools;\n",
        "- invoking sensitivity.py to compute $\\phi^2$ and plot sensitivity results.\n"
      ]
    },
    {
      "cell_type": "code",
      "execution_count": 1,
      "id": "4",
      "metadata": {
        "id": "4"
      },
      "outputs": [],
      "source": [
        "# Import relevant packages\n",
        "import pandas as pd\n",
        "import numpy as np\n",
        "import matplotlib.pyplot as plt\n",
        "from sklearn.model_selection import cross_val_predict, KFold\n",
        "from sklearn.pipeline import make_pipeline\n",
        "from sklearn.preprocessing import StandardScaler\n",
        "from sklearn.ensemble import RandomForestRegressor\n",
        "import patsy\n",
        "import warnings\n",
        "from sklearn.base import BaseEstimator\n",
        "import statsmodels.formula.api as smf\n",
        "import scipy\n",
        "warnings.simplefilter('ignore')\n",
        "np.random.seed(1234)"
      ]
    },
    {
      "cell_type": "code",
      "execution_count": 2,
      "id": "5",
      "metadata": {
        "id": "5",
        "outputId": "07485b6e-010a-408c-ebd9-224fe0cb48af",
        "colab": {
          "base_uri": "https://localhost:8080/"
        }
      },
      "outputs": [
        {
          "output_type": "execute_result",
          "data": {
            "text/plain": [
              "(1276, 14)"
            ]
          },
          "metadata": {},
          "execution_count": 2
        }
      ],
      "source": [
        "file = \"https://raw.githubusercontent.com/CausalAIBook/MetricsMLNotebooks/main/data/darfur.csv\"\n",
        "data = pd.read_csv(file)\n",
        "data.shape"
      ]
    },
    {
      "cell_type": "markdown",
      "id": "6",
      "metadata": {
        "id": "6",
        "papermill": {
          "duration": 0.021289,
          "end_time": "2021-04-03T12:55:38.319389",
          "exception": false,
          "start_time": "2021-04-03T12:55:38.298100",
          "status": "completed"
        },
        "tags": []
      },
      "source": [
        "## Preprocessing\n",
        "Take out village fixed effects and run basic linear analysis"
      ]
    },
    {
      "cell_type": "code",
      "execution_count": 3,
      "id": "7",
      "metadata": {
        "id": "7",
        "papermill": {
          "duration": 2.339638,
          "end_time": "2021-04-03T12:55:40.680306",
          "exception": false,
          "start_time": "2021-04-03T12:55:38.340668",
          "status": "completed"
        },
        "tags": [],
        "outputId": "e22a41af-8a0e-426a-c335-9bbe1fed50a8",
        "colab": {
          "base_uri": "https://localhost:8080/",
          "height": 580
        }
      },
      "outputs": [
        {
          "output_type": "execute_result",
          "data": {
            "text/plain": [
              "<class 'statsmodels.iolib.summary.Summary'>\n",
              "\"\"\"\n",
              "                            OLS Regression Results                            \n",
              "==============================================================================\n",
              "Dep. Variable:           peacefactorR   R-squared:                       0.154\n",
              "Model:                            OLS   Adj. R-squared:                  0.150\n",
              "Method:                 Least Squares   F-statistic:                     25.44\n",
              "Date:                Mon, 31 Mar 2025   Prob (F-statistic):           1.23e-29\n",
              "Time:                        03:11:12   Log-Likelihood:                -5.2404\n",
              "No. Observations:                1276   AIC:                             26.48\n",
              "Df Residuals:                    1268   BIC:                             67.69\n",
              "Df Model:                           7                                         \n",
              "Covariance Type:              cluster                                         \n",
              "===================================================================================\n",
              "                      coef    std err          z      P>|z|      [0.025      0.975]\n",
              "-----------------------------------------------------------------------------------\n",
              "Intercept       -6.462e-16   8.35e-16     -0.774      0.439   -2.28e-15     9.9e-16\n",
              "directlyharmedR     0.0973      0.024      4.085      0.000       0.051       0.144\n",
              "femaleR            -0.2321      0.024     -9.495      0.000      -0.280      -0.184\n",
              "ageR               -0.0021      0.001     -2.784      0.005      -0.004      -0.001\n",
              "farmerR            -0.0404      0.030     -1.368      0.171      -0.098       0.018\n",
              "herderR             0.0143      0.036      0.391      0.696      -0.057       0.086\n",
              "pastvotedR         -0.0480      0.027     -1.787      0.074      -0.101       0.005\n",
              "hhsizeR             0.0012      0.002      0.568      0.570      -0.003       0.005\n",
              "==============================================================================\n",
              "Omnibus:                       72.752   Durbin-Watson:                   2.163\n",
              "Prob(Omnibus):                  0.000   Jarque-Bera (JB):               95.464\n",
              "Skew:                           0.522   Prob(JB):                     1.86e-21\n",
              "Kurtosis:                       3.840   Cond. No.                         45.9\n",
              "==============================================================================\n",
              "\n",
              "Notes:\n",
              "[1] Standard Errors are robust to cluster correlation (cluster)\n",
              "\"\"\""
            ],
            "text/html": [
              "<table class=\"simpletable\">\n",
              "<caption>OLS Regression Results</caption>\n",
              "<tr>\n",
              "  <th>Dep. Variable:</th>      <td>peacefactorR</td>   <th>  R-squared:         </th> <td>   0.154</td>\n",
              "</tr>\n",
              "<tr>\n",
              "  <th>Model:</th>                   <td>OLS</td>       <th>  Adj. R-squared:    </th> <td>   0.150</td>\n",
              "</tr>\n",
              "<tr>\n",
              "  <th>Method:</th>             <td>Least Squares</td>  <th>  F-statistic:       </th> <td>   25.44</td>\n",
              "</tr>\n",
              "<tr>\n",
              "  <th>Date:</th>             <td>Mon, 31 Mar 2025</td> <th>  Prob (F-statistic):</th> <td>1.23e-29</td>\n",
              "</tr>\n",
              "<tr>\n",
              "  <th>Time:</th>                 <td>03:11:12</td>     <th>  Log-Likelihood:    </th> <td> -5.2404</td>\n",
              "</tr>\n",
              "<tr>\n",
              "  <th>No. Observations:</th>      <td>  1276</td>      <th>  AIC:               </th> <td>   26.48</td>\n",
              "</tr>\n",
              "<tr>\n",
              "  <th>Df Residuals:</th>          <td>  1268</td>      <th>  BIC:               </th> <td>   67.69</td>\n",
              "</tr>\n",
              "<tr>\n",
              "  <th>Df Model:</th>              <td>     7</td>      <th>                     </th>     <td> </td>   \n",
              "</tr>\n",
              "<tr>\n",
              "  <th>Covariance Type:</th>       <td>cluster</td>     <th>                     </th>     <td> </td>   \n",
              "</tr>\n",
              "</table>\n",
              "<table class=\"simpletable\">\n",
              "<tr>\n",
              "         <td></td>            <th>coef</th>     <th>std err</th>      <th>z</th>      <th>P>|z|</th>  <th>[0.025</th>    <th>0.975]</th>  \n",
              "</tr>\n",
              "<tr>\n",
              "  <th>Intercept</th>       <td>-6.462e-16</td> <td> 8.35e-16</td> <td>   -0.774</td> <td> 0.439</td> <td>-2.28e-15</td> <td>  9.9e-16</td>\n",
              "</tr>\n",
              "<tr>\n",
              "  <th>directlyharmedR</th> <td>    0.0973</td> <td>    0.024</td> <td>    4.085</td> <td> 0.000</td> <td>    0.051</td> <td>    0.144</td>\n",
              "</tr>\n",
              "<tr>\n",
              "  <th>femaleR</th>         <td>   -0.2321</td> <td>    0.024</td> <td>   -9.495</td> <td> 0.000</td> <td>   -0.280</td> <td>   -0.184</td>\n",
              "</tr>\n",
              "<tr>\n",
              "  <th>ageR</th>            <td>   -0.0021</td> <td>    0.001</td> <td>   -2.784</td> <td> 0.005</td> <td>   -0.004</td> <td>   -0.001</td>\n",
              "</tr>\n",
              "<tr>\n",
              "  <th>farmerR</th>         <td>   -0.0404</td> <td>    0.030</td> <td>   -1.368</td> <td> 0.171</td> <td>   -0.098</td> <td>    0.018</td>\n",
              "</tr>\n",
              "<tr>\n",
              "  <th>herderR</th>         <td>    0.0143</td> <td>    0.036</td> <td>    0.391</td> <td> 0.696</td> <td>   -0.057</td> <td>    0.086</td>\n",
              "</tr>\n",
              "<tr>\n",
              "  <th>pastvotedR</th>      <td>   -0.0480</td> <td>    0.027</td> <td>   -1.787</td> <td> 0.074</td> <td>   -0.101</td> <td>    0.005</td>\n",
              "</tr>\n",
              "<tr>\n",
              "  <th>hhsizeR</th>         <td>    0.0012</td> <td>    0.002</td> <td>    0.568</td> <td> 0.570</td> <td>   -0.003</td> <td>    0.005</td>\n",
              "</tr>\n",
              "</table>\n",
              "<table class=\"simpletable\">\n",
              "<tr>\n",
              "  <th>Omnibus:</th>       <td>72.752</td> <th>  Durbin-Watson:     </th> <td>   2.163</td>\n",
              "</tr>\n",
              "<tr>\n",
              "  <th>Prob(Omnibus):</th> <td> 0.000</td> <th>  Jarque-Bera (JB):  </th> <td>  95.464</td>\n",
              "</tr>\n",
              "<tr>\n",
              "  <th>Skew:</th>          <td> 0.522</td> <th>  Prob(JB):          </th> <td>1.86e-21</td>\n",
              "</tr>\n",
              "<tr>\n",
              "  <th>Kurtosis:</th>      <td> 3.840</td> <th>  Cond. No.          </th> <td>    45.9</td>\n",
              "</tr>\n",
              "</table><br/><br/>Notes:<br/>[1] Standard Errors are robust to cluster correlation (cluster)"
            ],
            "text/latex": "\\begin{center}\n\\begin{tabular}{lclc}\n\\toprule\n\\textbf{Dep. Variable:}    &   peacefactorR   & \\textbf{  R-squared:         } &     0.154   \\\\\n\\textbf{Model:}            &       OLS        & \\textbf{  Adj. R-squared:    } &     0.150   \\\\\n\\textbf{Method:}           &  Least Squares   & \\textbf{  F-statistic:       } &     25.44   \\\\\n\\textbf{Date:}             & Mon, 31 Mar 2025 & \\textbf{  Prob (F-statistic):} &  1.23e-29   \\\\\n\\textbf{Time:}             &     03:11:12     & \\textbf{  Log-Likelihood:    } &   -5.2404   \\\\\n\\textbf{No. Observations:} &        1276      & \\textbf{  AIC:               } &     26.48   \\\\\n\\textbf{Df Residuals:}     &        1268      & \\textbf{  BIC:               } &     67.69   \\\\\n\\textbf{Df Model:}         &           7      & \\textbf{                     } &             \\\\\n\\textbf{Covariance Type:}  &     cluster      & \\textbf{                     } &             \\\\\n\\bottomrule\n\\end{tabular}\n\\begin{tabular}{lcccccc}\n                         & \\textbf{coef} & \\textbf{std err} & \\textbf{z} & \\textbf{P$> |$z$|$} & \\textbf{[0.025} & \\textbf{0.975]}  \\\\\n\\midrule\n\\textbf{Intercept}       &   -6.462e-16  &     8.35e-16     &    -0.774  &         0.439        &    -2.28e-15    &      9.9e-16     \\\\\n\\textbf{directlyharmedR} &       0.0973  &        0.024     &     4.085  &         0.000        &        0.051    &        0.144     \\\\\n\\textbf{femaleR}         &      -0.2321  &        0.024     &    -9.495  &         0.000        &       -0.280    &       -0.184     \\\\\n\\textbf{ageR}            &      -0.0021  &        0.001     &    -2.784  &         0.005        &       -0.004    &       -0.001     \\\\\n\\textbf{farmerR}         &      -0.0404  &        0.030     &    -1.368  &         0.171        &       -0.098    &        0.018     \\\\\n\\textbf{herderR}         &       0.0143  &        0.036     &     0.391  &         0.696        &       -0.057    &        0.086     \\\\\n\\textbf{pastvotedR}      &      -0.0480  &        0.027     &    -1.787  &         0.074        &       -0.101    &        0.005     \\\\\n\\textbf{hhsizeR}         &       0.0012  &        0.002     &     0.568  &         0.570        &       -0.003    &        0.005     \\\\\n\\bottomrule\n\\end{tabular}\n\\begin{tabular}{lclc}\n\\textbf{Omnibus:}       & 72.752 & \\textbf{  Durbin-Watson:     } &    2.163  \\\\\n\\textbf{Prob(Omnibus):} &  0.000 & \\textbf{  Jarque-Bera (JB):  } &   95.464  \\\\\n\\textbf{Skew:}          &  0.522 & \\textbf{  Prob(JB):          } & 1.86e-21  \\\\\n\\textbf{Kurtosis:}      &  3.840 & \\textbf{  Cond. No.          } &     45.9  \\\\\n\\bottomrule\n\\end{tabular}\n%\\caption{OLS Regression Results}\n\\end{center}\n\nNotes: \\newline\n [1] Standard Errors are robust to cluster correlation (cluster)"
          },
          "metadata": {},
          "execution_count": 3
        }
      ],
      "source": [
        "# Get rid of village fixed effects\n",
        "peacefactorR = smf.ols(formula=\"peacefactor ~ village\", data=data).fit().resid\n",
        "directlyharmedR = smf.ols(formula=\"directlyharmed ~ village\", data=data).fit().resid\n",
        "femaleR = smf.ols(formula=\"female ~ village\", data=data).fit().resid\n",
        "ageR = smf.ols(formula=\"age ~ village\", data=data).fit().resid\n",
        "farmerR = smf.ols(formula=\"farmer_dar ~ village\", data=data).fit().resid\n",
        "herderR = smf.ols(formula=\"herder_dar ~ village\", data=data).fit().resid\n",
        "pastvotedR = smf.ols(formula=\"pastvoted ~ village\", data=data).fit().resid\n",
        "hhsizeR = smf.ols(formula=\"hhsize_darfur ~ village\", data=data).fit().resid\n",
        "\n",
        "# Preliminary linear model analysis\n",
        "# Here we are clustering standard errors at the village level\n",
        "\n",
        "# Estimating the effect of the treatment, controlling linearly for other factors\n",
        "model1 = smf.ols(formula=\"peacefactorR ~ directlyharmedR + femaleR + ageR + farmerR + herderR + pastvotedR + hhsizeR\",\n",
        "                 data=data).fit(cov_type='cluster', cov_kwds={'groups': data['village']})\n",
        "model1.summary()"
      ]
    },
    {
      "cell_type": "code",
      "execution_count": 4,
      "id": "8",
      "metadata": {
        "id": "8",
        "outputId": "b13e2d6c-9eb8-4709-8630-c032fe319849",
        "colab": {
          "base_uri": "https://localhost:8080/",
          "height": 558
        }
      },
      "outputs": [
        {
          "output_type": "execute_result",
          "data": {
            "text/plain": [
              "<class 'statsmodels.iolib.summary.Summary'>\n",
              "\"\"\"\n",
              "                            OLS Regression Results                            \n",
              "==============================================================================\n",
              "Dep. Variable:           peacefactorR   R-squared:                       0.135\n",
              "Model:                            OLS   Adj. R-squared:                  0.131\n",
              "Method:                 Least Squares   F-statistic:                     23.07\n",
              "Date:                Mon, 31 Mar 2025   Prob (F-statistic):           5.42e-24\n",
              "Time:                        03:11:12   Log-Likelihood:                -19.350\n",
              "No. Observations:                1276   AIC:                             52.70\n",
              "Df Residuals:                    1269   BIC:                             88.76\n",
              "Df Model:                           6                                         \n",
              "Covariance Type:              cluster                                         \n",
              "==============================================================================\n",
              "                 coef    std err          z      P>|z|      [0.025      0.975]\n",
              "------------------------------------------------------------------------------\n",
              "Intercept  -6.514e-16   7.93e-16     -0.822      0.411   -2.21e-15    9.02e-16\n",
              "femaleR       -0.2415      0.025     -9.522      0.000      -0.291      -0.192\n",
              "ageR          -0.0022      0.001     -2.934      0.003      -0.004      -0.001\n",
              "farmerR       -0.0407      0.029     -1.393      0.164      -0.098       0.017\n",
              "herderR        0.0262      0.040      0.661      0.509      -0.052       0.104\n",
              "pastvotedR    -0.0441      0.028     -1.585      0.113      -0.099       0.010\n",
              "hhsizeR        0.0013      0.002      0.628      0.530      -0.003       0.006\n",
              "==============================================================================\n",
              "Omnibus:                       78.209   Durbin-Watson:                   2.163\n",
              "Prob(Omnibus):                  0.000   Jarque-Bera (JB):              100.902\n",
              "Skew:                           0.558   Prob(JB):                     1.23e-22\n",
              "Kurtosis:                       3.807   Cond. No.                         45.7\n",
              "==============================================================================\n",
              "\n",
              "Notes:\n",
              "[1] Standard Errors are robust to cluster correlation (cluster)\n",
              "\"\"\""
            ],
            "text/html": [
              "<table class=\"simpletable\">\n",
              "<caption>OLS Regression Results</caption>\n",
              "<tr>\n",
              "  <th>Dep. Variable:</th>      <td>peacefactorR</td>   <th>  R-squared:         </th> <td>   0.135</td>\n",
              "</tr>\n",
              "<tr>\n",
              "  <th>Model:</th>                   <td>OLS</td>       <th>  Adj. R-squared:    </th> <td>   0.131</td>\n",
              "</tr>\n",
              "<tr>\n",
              "  <th>Method:</th>             <td>Least Squares</td>  <th>  F-statistic:       </th> <td>   23.07</td>\n",
              "</tr>\n",
              "<tr>\n",
              "  <th>Date:</th>             <td>Mon, 31 Mar 2025</td> <th>  Prob (F-statistic):</th> <td>5.42e-24</td>\n",
              "</tr>\n",
              "<tr>\n",
              "  <th>Time:</th>                 <td>03:11:12</td>     <th>  Log-Likelihood:    </th> <td> -19.350</td>\n",
              "</tr>\n",
              "<tr>\n",
              "  <th>No. Observations:</th>      <td>  1276</td>      <th>  AIC:               </th> <td>   52.70</td>\n",
              "</tr>\n",
              "<tr>\n",
              "  <th>Df Residuals:</th>          <td>  1269</td>      <th>  BIC:               </th> <td>   88.76</td>\n",
              "</tr>\n",
              "<tr>\n",
              "  <th>Df Model:</th>              <td>     6</td>      <th>                     </th>     <td> </td>   \n",
              "</tr>\n",
              "<tr>\n",
              "  <th>Covariance Type:</th>       <td>cluster</td>     <th>                     </th>     <td> </td>   \n",
              "</tr>\n",
              "</table>\n",
              "<table class=\"simpletable\">\n",
              "<tr>\n",
              "       <td></td>         <th>coef</th>     <th>std err</th>      <th>z</th>      <th>P>|z|</th>  <th>[0.025</th>    <th>0.975]</th>  \n",
              "</tr>\n",
              "<tr>\n",
              "  <th>Intercept</th>  <td>-6.514e-16</td> <td> 7.93e-16</td> <td>   -0.822</td> <td> 0.411</td> <td>-2.21e-15</td> <td> 9.02e-16</td>\n",
              "</tr>\n",
              "<tr>\n",
              "  <th>femaleR</th>    <td>   -0.2415</td> <td>    0.025</td> <td>   -9.522</td> <td> 0.000</td> <td>   -0.291</td> <td>   -0.192</td>\n",
              "</tr>\n",
              "<tr>\n",
              "  <th>ageR</th>       <td>   -0.0022</td> <td>    0.001</td> <td>   -2.934</td> <td> 0.003</td> <td>   -0.004</td> <td>   -0.001</td>\n",
              "</tr>\n",
              "<tr>\n",
              "  <th>farmerR</th>    <td>   -0.0407</td> <td>    0.029</td> <td>   -1.393</td> <td> 0.164</td> <td>   -0.098</td> <td>    0.017</td>\n",
              "</tr>\n",
              "<tr>\n",
              "  <th>herderR</th>    <td>    0.0262</td> <td>    0.040</td> <td>    0.661</td> <td> 0.509</td> <td>   -0.052</td> <td>    0.104</td>\n",
              "</tr>\n",
              "<tr>\n",
              "  <th>pastvotedR</th> <td>   -0.0441</td> <td>    0.028</td> <td>   -1.585</td> <td> 0.113</td> <td>   -0.099</td> <td>    0.010</td>\n",
              "</tr>\n",
              "<tr>\n",
              "  <th>hhsizeR</th>    <td>    0.0013</td> <td>    0.002</td> <td>    0.628</td> <td> 0.530</td> <td>   -0.003</td> <td>    0.006</td>\n",
              "</tr>\n",
              "</table>\n",
              "<table class=\"simpletable\">\n",
              "<tr>\n",
              "  <th>Omnibus:</th>       <td>78.209</td> <th>  Durbin-Watson:     </th> <td>   2.163</td>\n",
              "</tr>\n",
              "<tr>\n",
              "  <th>Prob(Omnibus):</th> <td> 0.000</td> <th>  Jarque-Bera (JB):  </th> <td> 100.902</td>\n",
              "</tr>\n",
              "<tr>\n",
              "  <th>Skew:</th>          <td> 0.558</td> <th>  Prob(JB):          </th> <td>1.23e-22</td>\n",
              "</tr>\n",
              "<tr>\n",
              "  <th>Kurtosis:</th>      <td> 3.807</td> <th>  Cond. No.          </th> <td>    45.7</td>\n",
              "</tr>\n",
              "</table><br/><br/>Notes:<br/>[1] Standard Errors are robust to cluster correlation (cluster)"
            ],
            "text/latex": "\\begin{center}\n\\begin{tabular}{lclc}\n\\toprule\n\\textbf{Dep. Variable:}    &   peacefactorR   & \\textbf{  R-squared:         } &     0.135   \\\\\n\\textbf{Model:}            &       OLS        & \\textbf{  Adj. R-squared:    } &     0.131   \\\\\n\\textbf{Method:}           &  Least Squares   & \\textbf{  F-statistic:       } &     23.07   \\\\\n\\textbf{Date:}             & Mon, 31 Mar 2025 & \\textbf{  Prob (F-statistic):} &  5.42e-24   \\\\\n\\textbf{Time:}             &     03:11:12     & \\textbf{  Log-Likelihood:    } &   -19.350   \\\\\n\\textbf{No. Observations:} &        1276      & \\textbf{  AIC:               } &     52.70   \\\\\n\\textbf{Df Residuals:}     &        1269      & \\textbf{  BIC:               } &     88.76   \\\\\n\\textbf{Df Model:}         &           6      & \\textbf{                     } &             \\\\\n\\textbf{Covariance Type:}  &     cluster      & \\textbf{                     } &             \\\\\n\\bottomrule\n\\end{tabular}\n\\begin{tabular}{lcccccc}\n                    & \\textbf{coef} & \\textbf{std err} & \\textbf{z} & \\textbf{P$> |$z$|$} & \\textbf{[0.025} & \\textbf{0.975]}  \\\\\n\\midrule\n\\textbf{Intercept}  &   -6.514e-16  &     7.93e-16     &    -0.822  &         0.411        &    -2.21e-15    &     9.02e-16     \\\\\n\\textbf{femaleR}    &      -0.2415  &        0.025     &    -9.522  &         0.000        &       -0.291    &       -0.192     \\\\\n\\textbf{ageR}       &      -0.0022  &        0.001     &    -2.934  &         0.003        &       -0.004    &       -0.001     \\\\\n\\textbf{farmerR}    &      -0.0407  &        0.029     &    -1.393  &         0.164        &       -0.098    &        0.017     \\\\\n\\textbf{herderR}    &       0.0262  &        0.040     &     0.661  &         0.509        &       -0.052    &        0.104     \\\\\n\\textbf{pastvotedR} &      -0.0441  &        0.028     &    -1.585  &         0.113        &       -0.099    &        0.010     \\\\\n\\textbf{hhsizeR}    &       0.0013  &        0.002     &     0.628  &         0.530        &       -0.003    &        0.006     \\\\\n\\bottomrule\n\\end{tabular}\n\\begin{tabular}{lclc}\n\\textbf{Omnibus:}       & 78.209 & \\textbf{  Durbin-Watson:     } &    2.163  \\\\\n\\textbf{Prob(Omnibus):} &  0.000 & \\textbf{  Jarque-Bera (JB):  } &  100.902  \\\\\n\\textbf{Skew:}          &  0.558 & \\textbf{  Prob(JB):          } & 1.23e-22  \\\\\n\\textbf{Kurtosis:}      &  3.807 & \\textbf{  Cond. No.          } &     45.7  \\\\\n\\bottomrule\n\\end{tabular}\n%\\caption{OLS Regression Results}\n\\end{center}\n\nNotes: \\newline\n [1] Standard Errors are robust to cluster correlation (cluster)"
          },
          "metadata": {},
          "execution_count": 4
        }
      ],
      "source": [
        "# OLS model that predicts the outcome from controls\n",
        "model2 = smf.ols(formula=\"peacefactorR ~ femaleR + ageR + farmerR + herderR + pastvotedR + hhsizeR\",\n",
        "                 data=data).fit(cov_type='cluster', cov_kwds={'groups': data['village']})\n",
        "model2.summary()"
      ]
    },
    {
      "cell_type": "code",
      "execution_count": 5,
      "id": "9",
      "metadata": {
        "id": "9",
        "outputId": "3b66c02d-8227-4f42-9818-a4155dc97201",
        "colab": {
          "base_uri": "https://localhost:8080/",
          "height": 558
        }
      },
      "outputs": [
        {
          "output_type": "execute_result",
          "data": {
            "text/plain": [
              "<class 'statsmodels.iolib.summary.Summary'>\n",
              "\"\"\"\n",
              "                            OLS Regression Results                            \n",
              "==============================================================================\n",
              "Dep. Variable:        directlyharmedR   R-squared:                       0.018\n",
              "Model:                            OLS   Adj. R-squared:                  0.013\n",
              "Method:                 Least Squares   F-statistic:                     3.828\n",
              "Date:                Mon, 31 Mar 2025   Prob (F-statistic):           0.000970\n",
              "Time:                        03:11:13   Log-Likelihood:                -553.41\n",
              "No. Observations:                1276   AIC:                             1121.\n",
              "Df Residuals:                    1269   BIC:                             1157.\n",
              "Df Model:                           6                                         \n",
              "Covariance Type:              cluster                                         \n",
              "==============================================================================\n",
              "                 coef    std err          z      P>|z|      [0.025      0.975]\n",
              "------------------------------------------------------------------------------\n",
              "Intercept  -5.725e-17   5.14e-16     -0.111      0.911   -1.07e-15    9.51e-16\n",
              "femaleR       -0.0971      0.051     -1.894      0.058      -0.198       0.003\n",
              "ageR          -0.0012      0.001     -1.028      0.304      -0.003       0.001\n",
              "farmerR       -0.0028      0.043     -0.065      0.948      -0.087       0.081\n",
              "herderR        0.1228      0.051      2.425      0.015       0.024       0.222\n",
              "pastvotedR     0.0399      0.034      1.186      0.236      -0.026       0.106\n",
              "hhsizeR        0.0011      0.003      0.333      0.739      -0.005       0.008\n",
              "==============================================================================\n",
              "Omnibus:                       96.839   Durbin-Watson:                   2.274\n",
              "Prob(Omnibus):                  0.000   Jarque-Bera (JB):               54.362\n",
              "Skew:                           0.356   Prob(JB):                     1.57e-12\n",
              "Kurtosis:                       2.282   Cond. No.                         45.7\n",
              "==============================================================================\n",
              "\n",
              "Notes:\n",
              "[1] Standard Errors are robust to cluster correlation (cluster)\n",
              "\"\"\""
            ],
            "text/html": [
              "<table class=\"simpletable\">\n",
              "<caption>OLS Regression Results</caption>\n",
              "<tr>\n",
              "  <th>Dep. Variable:</th>     <td>directlyharmedR</td> <th>  R-squared:         </th> <td>   0.018</td>\n",
              "</tr>\n",
              "<tr>\n",
              "  <th>Model:</th>                   <td>OLS</td>       <th>  Adj. R-squared:    </th> <td>   0.013</td>\n",
              "</tr>\n",
              "<tr>\n",
              "  <th>Method:</th>             <td>Least Squares</td>  <th>  F-statistic:       </th> <td>   3.828</td>\n",
              "</tr>\n",
              "<tr>\n",
              "  <th>Date:</th>             <td>Mon, 31 Mar 2025</td> <th>  Prob (F-statistic):</th> <td>0.000970</td>\n",
              "</tr>\n",
              "<tr>\n",
              "  <th>Time:</th>                 <td>03:11:13</td>     <th>  Log-Likelihood:    </th> <td> -553.41</td>\n",
              "</tr>\n",
              "<tr>\n",
              "  <th>No. Observations:</th>      <td>  1276</td>      <th>  AIC:               </th> <td>   1121.</td>\n",
              "</tr>\n",
              "<tr>\n",
              "  <th>Df Residuals:</th>          <td>  1269</td>      <th>  BIC:               </th> <td>   1157.</td>\n",
              "</tr>\n",
              "<tr>\n",
              "  <th>Df Model:</th>              <td>     6</td>      <th>                     </th>     <td> </td>   \n",
              "</tr>\n",
              "<tr>\n",
              "  <th>Covariance Type:</th>       <td>cluster</td>     <th>                     </th>     <td> </td>   \n",
              "</tr>\n",
              "</table>\n",
              "<table class=\"simpletable\">\n",
              "<tr>\n",
              "       <td></td>         <th>coef</th>     <th>std err</th>      <th>z</th>      <th>P>|z|</th>  <th>[0.025</th>    <th>0.975]</th>  \n",
              "</tr>\n",
              "<tr>\n",
              "  <th>Intercept</th>  <td>-5.725e-17</td> <td> 5.14e-16</td> <td>   -0.111</td> <td> 0.911</td> <td>-1.07e-15</td> <td> 9.51e-16</td>\n",
              "</tr>\n",
              "<tr>\n",
              "  <th>femaleR</th>    <td>   -0.0971</td> <td>    0.051</td> <td>   -1.894</td> <td> 0.058</td> <td>   -0.198</td> <td>    0.003</td>\n",
              "</tr>\n",
              "<tr>\n",
              "  <th>ageR</th>       <td>   -0.0012</td> <td>    0.001</td> <td>   -1.028</td> <td> 0.304</td> <td>   -0.003</td> <td>    0.001</td>\n",
              "</tr>\n",
              "<tr>\n",
              "  <th>farmerR</th>    <td>   -0.0028</td> <td>    0.043</td> <td>   -0.065</td> <td> 0.948</td> <td>   -0.087</td> <td>    0.081</td>\n",
              "</tr>\n",
              "<tr>\n",
              "  <th>herderR</th>    <td>    0.1228</td> <td>    0.051</td> <td>    2.425</td> <td> 0.015</td> <td>    0.024</td> <td>    0.222</td>\n",
              "</tr>\n",
              "<tr>\n",
              "  <th>pastvotedR</th> <td>    0.0399</td> <td>    0.034</td> <td>    1.186</td> <td> 0.236</td> <td>   -0.026</td> <td>    0.106</td>\n",
              "</tr>\n",
              "<tr>\n",
              "  <th>hhsizeR</th>    <td>    0.0011</td> <td>    0.003</td> <td>    0.333</td> <td> 0.739</td> <td>   -0.005</td> <td>    0.008</td>\n",
              "</tr>\n",
              "</table>\n",
              "<table class=\"simpletable\">\n",
              "<tr>\n",
              "  <th>Omnibus:</th>       <td>96.839</td> <th>  Durbin-Watson:     </th> <td>   2.274</td>\n",
              "</tr>\n",
              "<tr>\n",
              "  <th>Prob(Omnibus):</th> <td> 0.000</td> <th>  Jarque-Bera (JB):  </th> <td>  54.362</td>\n",
              "</tr>\n",
              "<tr>\n",
              "  <th>Skew:</th>          <td> 0.356</td> <th>  Prob(JB):          </th> <td>1.57e-12</td>\n",
              "</tr>\n",
              "<tr>\n",
              "  <th>Kurtosis:</th>      <td> 2.282</td> <th>  Cond. No.          </th> <td>    45.7</td>\n",
              "</tr>\n",
              "</table><br/><br/>Notes:<br/>[1] Standard Errors are robust to cluster correlation (cluster)"
            ],
            "text/latex": "\\begin{center}\n\\begin{tabular}{lclc}\n\\toprule\n\\textbf{Dep. Variable:}    & directlyharmedR  & \\textbf{  R-squared:         } &     0.018   \\\\\n\\textbf{Model:}            &       OLS        & \\textbf{  Adj. R-squared:    } &     0.013   \\\\\n\\textbf{Method:}           &  Least Squares   & \\textbf{  F-statistic:       } &     3.828   \\\\\n\\textbf{Date:}             & Mon, 31 Mar 2025 & \\textbf{  Prob (F-statistic):} &  0.000970   \\\\\n\\textbf{Time:}             &     03:11:13     & \\textbf{  Log-Likelihood:    } &   -553.41   \\\\\n\\textbf{No. Observations:} &        1276      & \\textbf{  AIC:               } &     1121.   \\\\\n\\textbf{Df Residuals:}     &        1269      & \\textbf{  BIC:               } &     1157.   \\\\\n\\textbf{Df Model:}         &           6      & \\textbf{                     } &             \\\\\n\\textbf{Covariance Type:}  &     cluster      & \\textbf{                     } &             \\\\\n\\bottomrule\n\\end{tabular}\n\\begin{tabular}{lcccccc}\n                    & \\textbf{coef} & \\textbf{std err} & \\textbf{z} & \\textbf{P$> |$z$|$} & \\textbf{[0.025} & \\textbf{0.975]}  \\\\\n\\midrule\n\\textbf{Intercept}  &   -5.725e-17  &     5.14e-16     &    -0.111  &         0.911        &    -1.07e-15    &     9.51e-16     \\\\\n\\textbf{femaleR}    &      -0.0971  &        0.051     &    -1.894  &         0.058        &       -0.198    &        0.003     \\\\\n\\textbf{ageR}       &      -0.0012  &        0.001     &    -1.028  &         0.304        &       -0.003    &        0.001     \\\\\n\\textbf{farmerR}    &      -0.0028  &        0.043     &    -0.065  &         0.948        &       -0.087    &        0.081     \\\\\n\\textbf{herderR}    &       0.1228  &        0.051     &     2.425  &         0.015        &        0.024    &        0.222     \\\\\n\\textbf{pastvotedR} &       0.0399  &        0.034     &     1.186  &         0.236        &       -0.026    &        0.106     \\\\\n\\textbf{hhsizeR}    &       0.0011  &        0.003     &     0.333  &         0.739        &       -0.005    &        0.008     \\\\\n\\bottomrule\n\\end{tabular}\n\\begin{tabular}{lclc}\n\\textbf{Omnibus:}       & 96.839 & \\textbf{  Durbin-Watson:     } &    2.274  \\\\\n\\textbf{Prob(Omnibus):} &  0.000 & \\textbf{  Jarque-Bera (JB):  } &   54.362  \\\\\n\\textbf{Skew:}          &  0.356 & \\textbf{  Prob(JB):          } & 1.57e-12  \\\\\n\\textbf{Kurtosis:}      &  2.282 & \\textbf{  Cond. No.          } &     45.7  \\\\\n\\bottomrule\n\\end{tabular}\n%\\caption{OLS Regression Results}\n\\end{center}\n\nNotes: \\newline\n [1] Standard Errors are robust to cluster correlation (cluster)"
          },
          "metadata": {},
          "execution_count": 5
        }
      ],
      "source": [
        "# OLS model that predicts the treatment from controls\n",
        "model3 = smf.ols(formula=\"directlyharmedR ~ femaleR + ageR + farmerR + herderR + pastvotedR + hhsizeR\",\n",
        "                 data=data).fit(cov_type='cluster', cov_kwds={'groups': data['village']})\n",
        "model3.summary()"
      ]
    },
    {
      "cell_type": "markdown",
      "id": "10",
      "metadata": {
        "id": "10",
        "papermill": {
          "duration": 0.041148,
          "end_time": "2021-04-03T12:55:40.762964",
          "exception": false,
          "start_time": "2021-04-03T12:55:40.721816",
          "status": "completed"
        },
        "tags": []
      },
      "source": [
        "## Lasso for partialling out controls"
      ]
    },
    {
      "cell_type": "markdown",
      "id": "11",
      "metadata": {
        "id": "11"
      },
      "source": [
        "Run the following commands to install hdmpy for rigorous lasso:\n",
        "\n",
        "```\n",
        "!pip install multiprocess\n",
        "!git clone https://github.com/maxhuppertz/hdmpy.git\n",
        "```"
      ]
    },
    {
      "cell_type": "code",
      "execution_count": 6,
      "id": "12",
      "metadata": {
        "id": "12",
        "outputId": "de11933a-0536-46e5-8511-8763cb4b7142",
        "colab": {
          "base_uri": "https://localhost:8080/"
        }
      },
      "outputs": [
        {
          "output_type": "stream",
          "name": "stdout",
          "text": [
            "Collecting multiprocess\n",
            "  Downloading multiprocess-0.70.17-py311-none-any.whl.metadata (7.2 kB)\n",
            "Collecting dill>=0.3.9 (from multiprocess)\n",
            "  Downloading dill-0.3.9-py3-none-any.whl.metadata (10 kB)\n",
            "Downloading multiprocess-0.70.17-py311-none-any.whl (144 kB)\n",
            "\u001b[2K   \u001b[90m━━━━━━━━━━━━━━━━━━━━━━━━━━━━━━━━━━━━━━━━\u001b[0m \u001b[32m144.3/144.3 kB\u001b[0m \u001b[31m2.6 MB/s\u001b[0m eta \u001b[36m0:00:00\u001b[0m\n",
            "\u001b[?25hDownloading dill-0.3.9-py3-none-any.whl (119 kB)\n",
            "\u001b[2K   \u001b[90m━━━━━━━━━━━━━━━━━━━━━━━━━━━━━━━━━━━━━━━━\u001b[0m \u001b[32m119.4/119.4 kB\u001b[0m \u001b[31m5.6 MB/s\u001b[0m eta \u001b[36m0:00:00\u001b[0m\n",
            "\u001b[?25hInstalling collected packages: dill, multiprocess\n",
            "Successfully installed dill-0.3.9 multiprocess-0.70.17\n",
            "Cloning into 'hdmpy'...\n",
            "remote: Enumerating objects: 70, done.\u001b[K\n",
            "remote: Counting objects: 100% (70/70), done.\u001b[K\n",
            "remote: Compressing objects: 100% (49/49), done.\u001b[K\n",
            "remote: Total 70 (delta 39), reused 52 (delta 21), pack-reused 0 (from 0)\u001b[K\n",
            "Receiving objects: 100% (70/70), 25.30 KiB | 8.43 MiB/s, done.\n",
            "Resolving deltas: 100% (39/39), done.\n"
          ]
        }
      ],
      "source": [
        "!pip install multiprocess\n",
        "!git clone https://github.com/maxhuppertz/hdmpy.git"
      ]
    },
    {
      "cell_type": "code",
      "execution_count": 7,
      "id": "13",
      "metadata": {
        "id": "13"
      },
      "outputs": [],
      "source": [
        "import hdmpy\n",
        "\n",
        "\n",
        "class RLasso(BaseEstimator):\n",
        "\n",
        "    def __init__(self, *, post=True):\n",
        "        self.post = post\n",
        "\n",
        "    def fit(self, X, y):\n",
        "        self.rlasso_ = hdmpy.rlasso(X, y, post=self.post)\n",
        "        return self\n",
        "\n",
        "    def predict(self, X):\n",
        "        return np.array(X) @ np.array(self.rlasso_.est['beta']).flatten() + np.array(self.rlasso_.est['intercept'])\n",
        "\n",
        "\n",
        "def lasso_model():\n",
        "    return RLasso(post=False)"
      ]
    },
    {
      "cell_type": "code",
      "execution_count": 8,
      "id": "14",
      "metadata": {
        "id": "14"
      },
      "outputs": [],
      "source": [
        "Z = np.column_stack((femaleR, ageR, farmerR, herderR, pastvotedR, hhsizeR))\n",
        "Z = pd.DataFrame(Z, columns=['femaleR', 'ageR', 'farmerR', 'herderR', 'pastvotedR', 'hhsizeR'])\n",
        "# Interactions of 3 degrees\n",
        "controls = patsy.dmatrix('0 + (femaleR + ageR + farmerR + herderR + pastvotedR + hhsizeR)**3',\n",
        "                         Z, return_type='dataframe')\n"
      ]
    },
    {
      "cell_type": "code",
      "execution_count": 9,
      "id": "15",
      "metadata": {
        "id": "15",
        "outputId": "3e47d9ac-6dda-4631-fac6-23c6463e5af9",
        "colab": {
          "base_uri": "https://localhost:8080/",
          "height": 487
        }
      },
      "outputs": [
        {
          "output_type": "stream",
          "name": "stdout",
          "text": [
            "('Controls explain the following fraction of variance of Outcome', 0.125108054879283)\n",
            "('Controls explain the following fraction of variance of Treatment', 0.01198423821766803)\n"
          ]
        },
        {
          "output_type": "execute_result",
          "data": {
            "text/plain": [
              "<class 'statsmodels.iolib.summary.Summary'>\n",
              "\"\"\"\n",
              "                            OLS Regression Results                            \n",
              "==============================================================================\n",
              "Dep. Variable:                   resY   R-squared:                       0.023\n",
              "Model:                            OLS   Adj. R-squared:                  0.022\n",
              "Method:                 Least Squares   F-statistic:                     16.87\n",
              "Date:                Mon, 31 Mar 2025   Prob (F-statistic):           4.69e-05\n",
              "Time:                        03:11:27   Log-Likelihood:                -11.916\n",
              "No. Observations:                1276   AIC:                             27.83\n",
              "Df Residuals:                    1274   BIC:                             38.14\n",
              "Df Model:                           1                                         \n",
              "Covariance Type:              cluster                                         \n",
              "==============================================================================\n",
              "                 coef    std err          z      P>|z|      [0.025      0.975]\n",
              "------------------------------------------------------------------------------\n",
              "Intercept   1.799e-10      0.000   1.13e-06      1.000      -0.000       0.000\n",
              "resD           0.1003      0.024      4.108      0.000       0.052       0.148\n",
              "==============================================================================\n",
              "Omnibus:                       77.408   Durbin-Watson:                   2.163\n",
              "Prob(Omnibus):                  0.000   Jarque-Bera (JB):               97.178\n",
              "Skew:                           0.567   Prob(JB):                     7.91e-22\n",
              "Kurtosis:                       3.736   Cond. No.                         2.67\n",
              "==============================================================================\n",
              "\n",
              "Notes:\n",
              "[1] Standard Errors are robust to cluster correlation (cluster)\n",
              "\"\"\""
            ],
            "text/html": [
              "<table class=\"simpletable\">\n",
              "<caption>OLS Regression Results</caption>\n",
              "<tr>\n",
              "  <th>Dep. Variable:</th>          <td>resY</td>       <th>  R-squared:         </th> <td>   0.023</td>\n",
              "</tr>\n",
              "<tr>\n",
              "  <th>Model:</th>                   <td>OLS</td>       <th>  Adj. R-squared:    </th> <td>   0.022</td>\n",
              "</tr>\n",
              "<tr>\n",
              "  <th>Method:</th>             <td>Least Squares</td>  <th>  F-statistic:       </th> <td>   16.87</td>\n",
              "</tr>\n",
              "<tr>\n",
              "  <th>Date:</th>             <td>Mon, 31 Mar 2025</td> <th>  Prob (F-statistic):</th> <td>4.69e-05</td>\n",
              "</tr>\n",
              "<tr>\n",
              "  <th>Time:</th>                 <td>03:11:27</td>     <th>  Log-Likelihood:    </th> <td> -11.916</td>\n",
              "</tr>\n",
              "<tr>\n",
              "  <th>No. Observations:</th>      <td>  1276</td>      <th>  AIC:               </th> <td>   27.83</td>\n",
              "</tr>\n",
              "<tr>\n",
              "  <th>Df Residuals:</th>          <td>  1274</td>      <th>  BIC:               </th> <td>   38.14</td>\n",
              "</tr>\n",
              "<tr>\n",
              "  <th>Df Model:</th>              <td>     1</td>      <th>                     </th>     <td> </td>   \n",
              "</tr>\n",
              "<tr>\n",
              "  <th>Covariance Type:</th>       <td>cluster</td>     <th>                     </th>     <td> </td>   \n",
              "</tr>\n",
              "</table>\n",
              "<table class=\"simpletable\">\n",
              "<tr>\n",
              "      <td></td>         <th>coef</th>     <th>std err</th>      <th>z</th>      <th>P>|z|</th>  <th>[0.025</th>    <th>0.975]</th>  \n",
              "</tr>\n",
              "<tr>\n",
              "  <th>Intercept</th> <td> 1.799e-10</td> <td>    0.000</td> <td> 1.13e-06</td> <td> 1.000</td> <td>   -0.000</td> <td>    0.000</td>\n",
              "</tr>\n",
              "<tr>\n",
              "  <th>resD</th>      <td>    0.1003</td> <td>    0.024</td> <td>    4.108</td> <td> 0.000</td> <td>    0.052</td> <td>    0.148</td>\n",
              "</tr>\n",
              "</table>\n",
              "<table class=\"simpletable\">\n",
              "<tr>\n",
              "  <th>Omnibus:</th>       <td>77.408</td> <th>  Durbin-Watson:     </th> <td>   2.163</td>\n",
              "</tr>\n",
              "<tr>\n",
              "  <th>Prob(Omnibus):</th> <td> 0.000</td> <th>  Jarque-Bera (JB):  </th> <td>  97.178</td>\n",
              "</tr>\n",
              "<tr>\n",
              "  <th>Skew:</th>          <td> 0.567</td> <th>  Prob(JB):          </th> <td>7.91e-22</td>\n",
              "</tr>\n",
              "<tr>\n",
              "  <th>Kurtosis:</th>      <td> 3.736</td> <th>  Cond. No.          </th> <td>    2.67</td>\n",
              "</tr>\n",
              "</table><br/><br/>Notes:<br/>[1] Standard Errors are robust to cluster correlation (cluster)"
            ],
            "text/latex": "\\begin{center}\n\\begin{tabular}{lclc}\n\\toprule\n\\textbf{Dep. Variable:}    &       resY       & \\textbf{  R-squared:         } &     0.023   \\\\\n\\textbf{Model:}            &       OLS        & \\textbf{  Adj. R-squared:    } &     0.022   \\\\\n\\textbf{Method:}           &  Least Squares   & \\textbf{  F-statistic:       } &     16.87   \\\\\n\\textbf{Date:}             & Mon, 31 Mar 2025 & \\textbf{  Prob (F-statistic):} &  4.69e-05   \\\\\n\\textbf{Time:}             &     03:11:27     & \\textbf{  Log-Likelihood:    } &   -11.916   \\\\\n\\textbf{No. Observations:} &        1276      & \\textbf{  AIC:               } &     27.83   \\\\\n\\textbf{Df Residuals:}     &        1274      & \\textbf{  BIC:               } &     38.14   \\\\\n\\textbf{Df Model:}         &           1      & \\textbf{                     } &             \\\\\n\\textbf{Covariance Type:}  &     cluster      & \\textbf{                     } &             \\\\\n\\bottomrule\n\\end{tabular}\n\\begin{tabular}{lcccccc}\n                   & \\textbf{coef} & \\textbf{std err} & \\textbf{z} & \\textbf{P$> |$z$|$} & \\textbf{[0.025} & \\textbf{0.975]}  \\\\\n\\midrule\n\\textbf{Intercept} &    1.799e-10  &        0.000     &  1.13e-06  &         1.000        &       -0.000    &        0.000     \\\\\n\\textbf{resD}      &       0.1003  &        0.024     &     4.108  &         0.000        &        0.052    &        0.148     \\\\\n\\bottomrule\n\\end{tabular}\n\\begin{tabular}{lclc}\n\\textbf{Omnibus:}       & 77.408 & \\textbf{  Durbin-Watson:     } &    2.163  \\\\\n\\textbf{Prob(Omnibus):} &  0.000 & \\textbf{  Jarque-Bera (JB):  } &   97.178  \\\\\n\\textbf{Skew:}          &  0.567 & \\textbf{  Prob(JB):          } & 7.91e-22  \\\\\n\\textbf{Kurtosis:}      &  3.736 & \\textbf{  Cond. No.          } &     2.67  \\\\\n\\bottomrule\n\\end{tabular}\n%\\caption{OLS Regression Results}\n\\end{center}\n\nNotes: \\newline\n [1] Standard Errors are robust to cluster correlation (cluster)"
          },
          "metadata": {},
          "execution_count": 9
        }
      ],
      "source": [
        "resY = peacefactorR - lasso_model().fit(controls, peacefactorR).predict(controls)\n",
        "resD = directlyharmedR - lasso_model().fit(controls, directlyharmedR).predict(controls)\n",
        "print((\"Controls explain the following fraction of variance of Outcome\",\n",
        "       1 - np.var(resY) / np.var(peacefactorR)))\n",
        "print((\"Controls explain the following fraction of variance of Treatment\",\n",
        "       1 - np.var(resD) / np.var(directlyharmedR)))\n",
        "\n",
        "dml_data = pd.DataFrame({'resY': resY, 'resD': resD, 'village': data['village']})\n",
        "dml_model = smf.ols(formula=\"resY ~ resD\", data=dml_data).fit(cov_type='cluster',\n",
        "                                                              cov_kwds={'groups': dml_data['village']})\n",
        "dml_model.summary()"
      ]
    },
    {
      "cell_type": "markdown",
      "id": "16",
      "metadata": {
        "id": "16",
        "papermill": {
          "duration": 0.02335,
          "end_time": "2021-04-03T12:55:41.169602",
          "exception": false,
          "start_time": "2021-04-03T12:55:41.146252",
          "status": "completed"
        },
        "tags": []
      },
      "source": [
        "## Manual Bias Analysis"
      ]
    },
    {
      "cell_type": "code",
      "execution_count": 10,
      "id": "17",
      "metadata": {
        "id": "17",
        "papermill": {
          "duration": 0.380639,
          "end_time": "2021-04-03T12:55:41.573999",
          "exception": false,
          "start_time": "2021-04-03T12:55:41.193360",
          "status": "completed"
        },
        "tags": [],
        "outputId": "f823d518-11f9-488b-e814-a61899da04e8",
        "colab": {
          "base_uri": "https://localhost:8080/",
          "height": 490
        }
      },
      "outputs": [
        {
          "output_type": "stream",
          "name": "stdout",
          "text": [
            "absolute value of the bias: 0.026220163931969985\n"
          ]
        },
        {
          "output_type": "display_data",
          "data": {
            "text/plain": [
              "<Figure size 640x480 with 1 Axes>"
            ],
            "image/png": "[encoded data removed]"
          },
          "metadata": {}
        }
      ],
      "source": [
        "# Main estimate\n",
        "beta = dml_model.params[1]\n",
        "\n",
        "# Hypothetical values of partial R2s\n",
        "R2_YC = 0.16\n",
        "R2_DC = 0.01\n",
        "\n",
        "# Elements of the bias equation\n",
        "kappa = (R2_YC * R2_DC) / (1 - R2_DC)\n",
        "variance_ratio = np.mean(dml_model.resid**2) / np.mean(resD**2)\n",
        "\n",
        "# Compute square bias\n",
        "BiasSq = kappa * variance_ratio\n",
        "\n",
        "# Compute absolute value of the bias\n",
        "print(\"absolute value of the bias:\", np.sqrt(BiasSq))\n",
        "\n",
        "# Plotting\n",
        "gridR2_DC = np.arange(0, 0.301, 0.001)\n",
        "gridR2_YC = kappa * (1 - gridR2_DC) / gridR2_DC\n",
        "gridR2_YC = np.where(gridR2_YC > 1, 1, gridR2_YC)\n",
        "\n",
        "plt.plot(gridR2_DC, gridR2_YC, color='red')\n",
        "plt.xlabel('Partial R2 of Treatment with Confounder')\n",
        "plt.ylabel('Partial R2 of Outcome with Confounder')\n",
        "plt.title(f'Combo of R2 such that |Bias| < {np.round(np.sqrt(BiasSq), decimals=4)}')\n",
        "plt.show()"
      ]
    },
    {
      "cell_type": "markdown",
      "id": "18",
      "metadata": {
        "id": "18",
        "papermill": {
          "duration": 0.025659,
          "end_time": "2021-04-03T12:55:41.626309",
          "exception": false,
          "start_time": "2021-04-03T12:55:41.600650",
          "status": "completed"
        },
        "tags": []
      },
      "source": [
        "## Packaging the Bias Analysis with some Automated Functions\n",
        "\n",
        "We now automate the DML process and pass the estimates to functions to automate the sensitivity analysis. This is done in the R package sensmakr, which does not exist in Python."
      ]
    },
    {
      "cell_type": "code",
      "execution_count": 11,
      "id": "19",
      "metadata": {
        "id": "19"
      },
      "outputs": [],
      "source": [
        "def dml(X, D, y, modely, modeld, *, nfolds, classifier=False, cluster=True, clu=None):\n",
        "    '''\n",
        "    DML for the Partially Linear Model setting with cross-fitting\n",
        "\n",
        "    Input\n",
        "    -----\n",
        "    X: the controls\n",
        "    D: the treatment\n",
        "    y: the outcome\n",
        "    modely: the ML model for predicting the outcome y\n",
        "    modeld: the ML model for predicting the treatment D\n",
        "    nfolds: the number of folds in cross-fitting\n",
        "    classifier: bool, whether the modeld is a classifier or a regressor\n",
        "\n",
        "    clu: df column to cluster by\n",
        "    cluster: bool, whether to use clustered standard errors\n",
        "\n",
        "    Output\n",
        "    ------\n",
        "    point: the point estimate of the treatment effect of D on y\n",
        "    stderr: the standard error of the treatment effect\n",
        "    yhat: the cross-fitted predictions for the outcome y\n",
        "    Dhat: the cross-fitted predictions for the treatment D\n",
        "    resy: the outcome residuals\n",
        "    resD: the treatment residuals\n",
        "    epsilon: the final residual-on-residual OLS regression residual\n",
        "    '''\n",
        "\n",
        "    if nfolds > 1:\n",
        "        cv = KFold(n_splits=nfolds, shuffle=True, random_state=123)  # shuffled k-folds\n",
        "        yhat = cross_val_predict(modely, X, y, cv=cv, n_jobs=-1)  # out-of-fold predictions for y\n",
        "        # out-of-fold predictions for D\n",
        "        # use predict or predict_proba dependent on classifier or regressor for D\n",
        "        if classifier:\n",
        "            Dhat = cross_val_predict(modeld, X, D, cv=cv, method='predict_proba', n_jobs=-1)[:, 1]\n",
        "        else:\n",
        "            Dhat = cross_val_predict(modeld, X, D, cv=cv, n_jobs=-1)\n",
        "    elif nfolds == -1:\n",
        "        yhat = modely.fit(X, y).predict(X)\n",
        "        if classifier:\n",
        "            Dhat = modeld.fit(X, D).predict_proba(X)\n",
        "        else:\n",
        "            Dhat = modeld.fit(X, D).predict(X)\n",
        "\n",
        "    # calculate outcome and treatment residuals\n",
        "    resy = y - yhat\n",
        "    resD = D - Dhat\n",
        "\n",
        "    if cluster:\n",
        "        # final stage ols clustered\n",
        "        dml_data = pd.DataFrame({'resY': resY, 'resD': resD, 'cluster': clu})\n",
        "    else:\n",
        "        # final stage ols nonclustered\n",
        "        dml_data = pd.DataFrame({'resY': resY, 'resD': resD})\n",
        "\n",
        "    if cluster:\n",
        "        # clustered standard errors\n",
        "        ols_mod = smf.ols(formula='resY ~ 1 + resD', data=dml_data)\n",
        "        ols_mod = ols_mod.fit(cov_type='cluster', cov_kwds={\"groups\": dml_data['cluster']})\n",
        "    else:\n",
        "        # regular ols\n",
        "        ols_mod = smf.ols(formula='resY ~ 1 + resD', data=dml_data).fit()\n",
        "\n",
        "    point = ols_mod.params[1]\n",
        "    stderr = ols_mod.bse[1]\n",
        "    epsilon = ols_mod.resid\n",
        "\n",
        "    return point, stderr, yhat, Dhat, resy, resD, epsilon"
      ]
    },
    {
      "cell_type": "code",
      "execution_count": 12,
      "id": "20",
      "metadata": {
        "id": "20"
      },
      "outputs": [],
      "source": [
        "def summary(point, stderr, yhat, Dhat, resy, resD, epsilon, X, D, y, *, name):\n",
        "    '''\n",
        "    Convenience summary function that takes the results of the DML function\n",
        "    and summarizes several estimation quantities and performance metrics.\n",
        "    '''\n",
        "    return pd.DataFrame({'estimate': point,  # point estimate\n",
        "                         'stderr': stderr,  # standard error\n",
        "                         'lower': point - 1.96 * stderr,  # lower end of 95% confidence interval\n",
        "                         'upper': point + 1.96 * stderr,  # upper end of 95% confidence interval\n",
        "                         'rmse y': np.sqrt(np.mean(resy**2)),  # RMSE of model that predicts outcome y\n",
        "                         'rmse D': np.sqrt(np.mean(resD**2))  # RMSE of model that predicts treatment D\n",
        "                         }, index=[name])\n"
      ]
    },
    {
      "cell_type": "code",
      "execution_count": 13,
      "id": "21",
      "metadata": {
        "id": "21"
      },
      "outputs": [],
      "source": [
        "def dml_sensitivity_bounds_single(res, eta_ysq, eta_asq, inds=None, return_stderr=False):\n",
        "    ''' Sensitivity analysis, specialized for the partially linear DML moment\n",
        "    E[(yres - theta * Tres) * Tres]. `est` is a `LinearDML` estimator fitted\n",
        "    with `cache_values=True` so that residuals are being stored after fitting.\n",
        "\n",
        "    Input\n",
        "    -----\n",
        "    res : tuple (yres, Tres)\n",
        "        outcome and treatment residuals from the DML procedure\n",
        "    eta_ysq : float\n",
        "        posited partial R^2 for the outcome, that the unobserved confounder explains\n",
        "    eta_asq : float\n",
        "        posited partial R^2 for the treatment, that the unobserved confounder explains\n",
        "    inds : list of int or None, optional (default=None)\n",
        "        subset of samples to use for this analysis; useful for sub-population analysis\n",
        "    return_stderr : bool, optional (default=False)\n",
        "        whether to return standard errors for the lower and upper bound\n",
        "\n",
        "    Returns\n",
        "    -------\n",
        "    lower : lower bound of confidence set\n",
        "    lower_stderr : standard error for the lower bound (not returned if `return_stderr=False`)\n",
        "    upper : upper bound of confidence set\n",
        "    upper_stderr : standard error for the upper bound (not returned if `return_stderr=False`)\n",
        "    '''\n",
        "    if inds is None:\n",
        "        inds = np.arange(res[0].shape[0])\n",
        "    yres, Tres = res\n",
        "    yres, Tres = yres[inds], Tres[inds]\n",
        "    nusq = np.mean(Tres ** 2)\n",
        "    theta = np.mean(yres * Tres) / nusq\n",
        "    sigmasq = np.mean((yres - Tres * theta)**2)\n",
        "    S = np.sqrt(sigmasq / nusq)\n",
        "    Casq = eta_asq / (1 - eta_asq)\n",
        "    Cgsq = eta_ysq\n",
        "    error = S * np.sqrt(Casq * Cgsq)\n",
        "\n",
        "    if not return_stderr:\n",
        "        return theta - error, theta + error\n",
        "\n",
        "    psi_theta = (yres - Tres * theta) * Tres / nusq\n",
        "    psi_sigmasq = (yres - Tres * theta)**2 - sigmasq\n",
        "    psi_nusq = Tres**2 - nusq\n",
        "\n",
        "    phi_plus = psi_theta\n",
        "    phi_plus += (np.sqrt(Casq * Cgsq) / (2 * S)) * (-(sigmasq / (nusq**2)) * psi_nusq + (1 / nusq) * psi_sigmasq)\n",
        "    stderr_plus = np.sqrt(np.mean(phi_plus**2) / phi_plus.shape[0])\n",
        "\n",
        "    phi_minus = psi_theta\n",
        "    phi_minus -= (np.sqrt(Casq * Cgsq) / (2 * S)) * (-(sigmasq / (nusq**2)) * psi_nusq + (1 / nusq) * psi_sigmasq)\n",
        "    stderr_minus = np.sqrt(np.mean(phi_minus**2) / phi_minus.shape[0])\n",
        "    return theta - error, stderr_minus, theta + error, stderr_plus"
      ]
    },
    {
      "cell_type": "markdown",
      "id": "22",
      "metadata": {
        "id": "22"
      },
      "source": [
        "If we want reduce the uncertainty from sample splitting, we can re-run our $nfolds$ cross-fitting and aggregate with the median estimates. With 10 folds as above, there shouldn't be too much variance anyway, but we employ the following aggregation procedure anyway."
      ]
    },
    {
      "cell_type": "code",
      "execution_count": 14,
      "id": "23",
      "metadata": {
        "id": "23"
      },
      "outputs": [],
      "source": [
        "def dml_sensitivity_bounds(res_list, eta_ysq, eta_asq, alpha=None, inds=None):\n",
        "    ''' Sensitivity analysis, specialized for the partially linear DML moment\n",
        "    E[(yres - theta * Tres) * Tres]. `est` is a `LinearDML` estimator fitted\n",
        "    with `cache_values=True` so that residuals are being stored after fitting.\n",
        "\n",
        "    Input\n",
        "    -----\n",
        "    res_list : list of tuples (yres, Tres), or single tuple (yres, Tres)\n",
        "        list of (outcome and treatment residuals from the DML procedure) on different\n",
        "        random cross-fitting folds\n",
        "    eta_ysq : float\n",
        "        posited partial R^2 for the outcome, that the unobserved confounder explains\n",
        "    eta_asq : float\n",
        "        posited partial R^2 for the treatment, that the unobserved confounder explains\n",
        "    alpha : float or None, optional (default=None)\n",
        "        confidence level for confidence interval; if None, no uncertainty is incoprorated\n",
        "    inds : list of int or None, optional (default=None)\n",
        "        subset of samples to use for this analysis; useful for sub-population analysis\n",
        "\n",
        "    Returns\n",
        "    -------\n",
        "    lower : lower bound of confidence set, incorporating uncertainty\n",
        "    upper : upper bound of confidence set, incorporating uncertainty\n",
        "    '''\n",
        "    if not isinstance(res_list, list):\n",
        "        res_list = [res_list]\n",
        "\n",
        "    if alpha is None:\n",
        "        lower, upper = zip(*[dml_sensitivity_bounds_single(res, eta_ysq, eta_asq, inds=inds, return_stderr=False)\n",
        "                             for res in res_list])\n",
        "        return np.median(lower), np.median(upper)\n",
        "    else:\n",
        "        lower, std_lower, upper, std_upper = zip(*[dml_sensitivity_bounds_single(res, eta_ysq, eta_asq,\n",
        "                                                                                 inds=inds, return_stderr=True)\n",
        "                                                   for res in res_list])\n",
        "        std_lower = np.array(std_lower)\n",
        "        std_upper = np.array(std_upper)\n",
        "        lower = np.median(lower)\n",
        "        lower -= scipy.stats.norm.ppf(1 - alpha / 2) * np.sqrt(np.median(std_lower**2) + np.var(lower))\n",
        "        upper = np.median(upper)\n",
        "        upper += scipy.stats.norm.ppf(1 - alpha / 2) * np.sqrt(np.median(std_upper**2) + np.var(upper))\n",
        "        return lower, upper\n",
        "\n",
        "\n",
        "def dml_sensitivity_contours(res_list, y_upper, a_upper, alpha=None, inds=None):\n",
        "    ''' Specialized for linear DML. Sensitivity bounds contour plots based on a many trained doubly robust\n",
        "    average moment models. If `alpha` is float, incorporates sampling uncertainty\n",
        "    at the `alpha` level. Sensitivity parameter `eta_ysq` ranges in `[0, y_upper]`\n",
        "    and parameter `eta_asq` ranges in `[0, a_upper]`.\n",
        "\n",
        "    Input\n",
        "    -----\n",
        "    res_list : list of tuples (yres, Tres), or single tuple (yres, Tres)\n",
        "        list of (outcome and treatment residuals from the DML procedure) on different\n",
        "        random cross-fitting folds\n",
        "    y_upper : float\n",
        "        upper bound on posited partial R^2 for the outcome, that the unobserved confounder explains\n",
        "    a_upper : float\n",
        "        upper bound posited partial R^2 for the treatment, that the unobserved confounder explains\n",
        "    alpha : float or None, optional (default=None)\n",
        "        confidence level for confidence interval; if None, no uncertainty is incoprorated\n",
        "    inds : list of int or None, optional (default=None)\n",
        "        subset of samples to use for this analysis; useful for sub-population analysis\n",
        "\n",
        "    Returns\n",
        "    -------\n",
        "    X, Y, Zlower, Zupper: contour plot arrays for the lower and upper bound of the confidence set\n",
        "    '''\n",
        "    xlist = np.linspace(0, a_upper, 100)\n",
        "    ylist = np.linspace(0, y_upper, 100)\n",
        "    X, Y = np.meshgrid(xlist, ylist)\n",
        "    Zlower = np.zeros(X.shape)\n",
        "    Zupper = np.zeros(X.shape)\n",
        "    for itx in np.arange(X.shape[1]):\n",
        "        for ity in np.arange(X.shape[0]):\n",
        "            l, u = dml_sensitivity_bounds(res_list, Y[ity, itx], X[ity, itx], alpha=alpha, inds=inds)\n",
        "            Zlower[ity, itx] = l\n",
        "            Zupper[ity, itx] = u\n",
        "\n",
        "    return X, Y, Zlower, Zupper"
      ]
    },
    {
      "cell_type": "markdown",
      "id": "24",
      "metadata": {
        "id": "24"
      },
      "source": [
        "## Bias Analysis with the Automated Functions"
      ]
    },
    {
      "cell_type": "code",
      "execution_count": 15,
      "id": "25",
      "metadata": {
        "id": "25",
        "outputId": "8a5b6758-e77c-4000-b9ec-f331441a67aa",
        "colab": {
          "base_uri": "https://localhost:8080/",
          "height": 89
        }
      },
      "outputs": [
        {
          "output_type": "execute_result",
          "data": {
            "text/plain": [
              "        estimate    stderr     lower     upper    rmse y    rmse D\n",
              "RLasso  0.100336  0.024427  0.052459  0.148214  0.247114  0.374477"
            ],
            "text/html": [
              "\n",
              "  <div id=\"df-6917a749-a140-4835-851b-20eb085bfe8b\" class=\"colab-df-container\">\n",
              "    <div>\n",
              "<style scoped>\n",
              "    .dataframe tbody tr th:only-of-type {\n",
              "        vertical-align: middle;\n",
              "    }\n",
              "\n",
              "    .dataframe tbody tr th {\n",
              "        vertical-align: top;\n",
              "    }\n",
              "\n",
              "    .dataframe thead th {\n",
              "        text-align: right;\n",
              "    }\n",
              "</style>\n",
              "<table border=\"1\" class=\"dataframe\">\n",
              "  <thead>\n",
              "    <tr style=\"text-align: right;\">\n",
              "      <th></th>\n",
              "      <th>estimate</th>\n",
              "      <th>stderr</th>\n",
              "      <th>lower</th>\n",
              "      <th>upper</th>\n",
              "      <th>rmse y</th>\n",
              "      <th>rmse D</th>\n",
              "    </tr>\n",
              "  </thead>\n",
              "  <tbody>\n",
              "    <tr>\n",
              "      <th>RLasso</th>\n",
              "      <td>0.100336</td>\n",
              "      <td>0.024427</td>\n",
              "      <td>0.052459</td>\n",
              "      <td>0.148214</td>\n",
              "      <td>0.247114</td>\n",
              "      <td>0.374477</td>\n",
              "    </tr>\n",
              "  </tbody>\n",
              "</table>\n",
              "</div>\n",
              "    <div class=\"colab-df-buttons\">\n",
              "\n",
              "  <div class=\"colab-df-container\">\n",
              "    <button class=\"colab-df-convert\" onclick=\"convertToInteractive('df-6917a749-a140-4835-851b-20eb085bfe8b')\"\n",
              "            title=\"Convert this dataframe to an interactive table.\"\n",
              "            style=\"display:none;\">\n",
              "\n",
              "  <svg xmlns=\"http://www.w3.org/2000/svg\" height=\"24px\" viewBox=\"0 -960 960 960\">\n",
              "    <path d=\"M120-120v-720h720v720H120Zm60-500h600v-160H180v160Zm220 220h160v-160H400v160Zm0 220h160v-160H400v160ZM180-400h160v-160H180v160Zm440 0h160v-160H620v160ZM180-180h160v-160H180v160Zm440 0h160v-160H620v160Z\"/>\n",
              "  </svg>\n",
              "    </button>\n",
              "\n",
              "  <style>\n",
              "    .colab-df-container {\n",
              "      display:flex;\n",
              "      gap: 12px;\n",
              "    }\n",
              "\n",
              "    .colab-df-convert {\n",
              "      background-color: #E8F0FE;\n",
              "      border: none;\n",
              "      border-radius: 50%;\n",
              "      cursor: pointer;\n",
              "      display: none;\n",
              "      fill: #1967D2;\n",
              "      height: 32px;\n",
              "      padding: 0 0 0 0;\n",
              "      width: 32px;\n",
              "    }\n",
              "\n",
              "    .colab-df-convert:hover {\n",
              "      background-color: #E2EBFA;\n",
              "      box-shadow: 0px 1px 2px rgba(60, 64, 67, 0.3), 0px 1px 3px 1px rgba(60, 64, 67, 0.15);\n",
              "      fill: #174EA6;\n",
              "    }\n",
              "\n",
              "    .colab-df-buttons div {\n",
              "      margin-bottom: 4px;\n",
              "    }\n",
              "\n",
              "    [theme=dark] .colab-df-convert {\n",
              "      background-color: #3B4455;\n",
              "      fill: #D2E3FC;\n",
              "    }\n",
              "\n",
              "    [theme=dark] .colab-df-convert:hover {\n",
              "      background-color: #434B5C;\n",
              "      box-shadow: 0px 1px 3px 1px rgba(0, 0, 0, 0.15);\n",
              "      filter: drop-shadow(0px 1px 2px rgba(0, 0, 0, 0.3));\n",
              "      fill: #FFFFFF;\n",
              "    }\n",
              "  </style>\n",
              "\n",
              "    <script>\n",
              "      const buttonEl =\n",
              "        document.querySelector('#df-6917a749-a140-4835-851b-20eb085bfe8b button.colab-df-convert');\n",
              "      buttonEl.style.display =\n",
              "        google.colab.kernel.accessAllowed ? 'block' : 'none';\n",
              "\n",
              "      async function convertToInteractive(key) {\n",
              "        const element = document.querySelector('#df-6917a749-a140-4835-851b-20eb085bfe8b');\n",
              "        const dataTable =\n",
              "          await google.colab.kernel.invokeFunction('convertToInteractive',\n",
              "                                                    [key], {});\n",
              "        if (!dataTable) return;\n",
              "\n",
              "        const docLinkHtml = 'Like what you see? Visit the ' +\n",
              "          '<a target=\"_blank\" href=https://colab.research.google.com/notebooks/data_table.ipynb>data table notebook</a>'\n",
              "          + ' to learn more about interactive tables.';\n",
              "        element.innerHTML = '';\n",
              "        dataTable['output_type'] = 'display_data';\n",
              "        await google.colab.output.renderOutput(dataTable, element);\n",
              "        const docLink = document.createElement('div');\n",
              "        docLink.innerHTML = docLinkHtml;\n",
              "        element.appendChild(docLink);\n",
              "      }\n",
              "    </script>\n",
              "  </div>\n",
              "\n",
              "\n",
              "  <div id=\"id_c716898d-0376-4fef-8b95-7c5e9c5a16b8\">\n",
              "    <style>\n",
              "      .colab-df-generate {\n",
              "        background-color: #E8F0FE;\n",
              "        border: none;\n",
              "        border-radius: 50%;\n",
              "        cursor: pointer;\n",
              "        display: none;\n",
              "        fill: #1967D2;\n",
              "        height: 32px;\n",
              "        padding: 0 0 0 0;\n",
              "        width: 32px;\n",
              "      }\n",
              "\n",
              "      .colab-df-generate:hover {\n",
              "        background-color: #E2EBFA;\n",
              "        box-shadow: 0px 1px 2px rgba(60, 64, 67, 0.3), 0px 1px 3px 1px rgba(60, 64, 67, 0.15);\n",
              "        fill: #174EA6;\n",
              "      }\n",
              "\n",
              "      [theme=dark] .colab-df-generate {\n",
              "        background-color: #3B4455;\n",
              "        fill: #D2E3FC;\n",
              "      }\n",
              "\n",
              "      [theme=dark] .colab-df-generate:hover {\n",
              "        background-color: #434B5C;\n",
              "        box-shadow: 0px 1px 3px 1px rgba(0, 0, 0, 0.15);\n",
              "        filter: drop-shadow(0px 1px 2px rgba(0, 0, 0, 0.3));\n",
              "        fill: #FFFFFF;\n",
              "      }\n",
              "    </style>\n",
              "    <button class=\"colab-df-generate\" onclick=\"generateWithVariable('table_lasso')\"\n",
              "            title=\"Generate code using this dataframe.\"\n",
              "            style=\"display:none;\">\n",
              "\n",
              "  <svg xmlns=\"http://www.w3.org/2000/svg\" height=\"24px\"viewBox=\"0 0 24 24\"\n",
              "       width=\"24px\">\n",
              "    <path d=\"M7,19H8.4L18.45,9,17,7.55,7,17.6ZM5,21V16.75L18.45,3.32a2,2,0,0,1,2.83,0l1.4,1.43a1.91,1.91,0,0,1,.58,1.4,1.91,1.91,0,0,1-.58,1.4L9.25,21ZM18.45,9,17,7.55Zm-12,3A5.31,5.31,0,0,0,4.9,8.1,5.31,5.31,0,0,0,1,6.5,5.31,5.31,0,0,0,4.9,4.9,5.31,5.31,0,0,0,6.5,1,5.31,5.31,0,0,0,8.1,4.9,5.31,5.31,0,0,0,12,6.5,5.46,5.46,0,0,0,6.5,12Z\"/>\n",
              "  </svg>\n",
              "    </button>\n",
              "    <script>\n",
              "      (() => {\n",
              "      const buttonEl =\n",
              "        document.querySelector('#id_c716898d-0376-4fef-8b95-7c5e9c5a16b8 button.colab-df-generate');\n",
              "      buttonEl.style.display =\n",
              "        google.colab.kernel.accessAllowed ? 'block' : 'none';\n",
              "\n",
              "      buttonEl.onclick = () => {\n",
              "        google.colab.notebook.generateWithVariable('table_lasso');\n",
              "      }\n",
              "      })();\n",
              "    </script>\n",
              "  </div>\n",
              "\n",
              "    </div>\n",
              "  </div>\n"
            ],
            "application/vnd.google.colaboratory.intrinsic+json": {
              "type": "dataframe",
              "variable_name": "table_lasso",
              "summary": "{\n  \"name\": \"table_lasso\",\n  \"rows\": 1,\n  \"fields\": [\n    {\n      \"column\": \"estimate\",\n      \"properties\": {\n        \"dtype\": \"number\",\n        \"std\": null,\n        \"min\": 0.1003364481003486,\n        \"max\": 0.1003364481003486,\n        \"num_unique_values\": 1,\n        \"samples\": [\n          0.1003364481003486\n        ],\n        \"semantic_type\": \"\",\n        \"description\": \"\"\n      }\n    },\n    {\n      \"column\": \"stderr\",\n      \"properties\": {\n        \"dtype\": \"number\",\n        \"std\": null,\n        \"min\": 0.02442734634078912,\n        \"max\": 0.02442734634078912,\n        \"num_unique_values\": 1,\n        \"samples\": [\n          0.02442734634078912\n        ],\n        \"semantic_type\": \"\",\n        \"description\": \"\"\n      }\n    },\n    {\n      \"column\": \"lower\",\n      \"properties\": {\n        \"dtype\": \"number\",\n        \"std\": null,\n        \"min\": 0.05245884927240192,\n        \"max\": 0.05245884927240192,\n        \"num_unique_values\": 1,\n        \"samples\": [\n          0.05245884927240192\n        ],\n        \"semantic_type\": \"\",\n        \"description\": \"\"\n      }\n    },\n    {\n      \"column\": \"upper\",\n      \"properties\": {\n        \"dtype\": \"number\",\n        \"std\": null,\n        \"min\": 0.14821404692829526,\n        \"max\": 0.14821404692829526,\n        \"num_unique_values\": 1,\n        \"samples\": [\n          0.14821404692829526\n        ],\n        \"semantic_type\": \"\",\n        \"description\": \"\"\n      }\n    },\n    {\n      \"column\": \"rmse y\",\n      \"properties\": {\n        \"dtype\": \"number\",\n        \"std\": null,\n        \"min\": 0.24711436590957225,\n        \"max\": 0.24711436590957225,\n        \"num_unique_values\": 1,\n        \"samples\": [\n          0.24711436590957225\n        ],\n        \"semantic_type\": \"\",\n        \"description\": \"\"\n      }\n    },\n    {\n      \"column\": \"rmse D\",\n      \"properties\": {\n        \"dtype\": \"number\",\n        \"std\": null,\n        \"min\": 0.3744774292312472,\n        \"max\": 0.3744774292312472,\n        \"num_unique_values\": 1,\n        \"samples\": [\n          0.3744774292312472\n        ],\n        \"semantic_type\": \"\",\n        \"description\": \"\"\n      }\n    }\n  ]\n}"
            }
          },
          "metadata": {},
          "execution_count": 15
        }
      ],
      "source": [
        "# DML with RLasso\n",
        "modely = make_pipeline(StandardScaler(), lasso_model())\n",
        "modeld = make_pipeline(StandardScaler(), lasso_model())\n",
        "\n",
        "# Run DML model with no crossfitting (change nfolds to >1 to use crossfitting)\n",
        "result_lasso = dml(controls, directlyharmedR, peacefactorR, modely, modeld, nfolds=-1,\n",
        "                   classifier=False, clu=data['village'], cluster=True)\n",
        "table_lasso = summary(*result_lasso, controls, directlyharmedR, peacefactorR, name='RLasso')\n",
        "table_lasso"
      ]
    },
    {
      "cell_type": "code",
      "execution_count": 16,
      "id": "26",
      "metadata": {
        "id": "26",
        "outputId": "9fe4a511-3b0f-46f0-e68e-2778d3bef631",
        "colab": {
          "base_uri": "https://localhost:8080/"
        }
      },
      "outputs": [
        {
          "output_type": "stream",
          "name": "stdout",
          "text": [
            "('Controls explain the following fraction of variance of Outcome', 0.12510755909046)\n",
            "('Controls explain the following fraction of variance of Treatment', 0.011984237974717593)\n"
          ]
        }
      ],
      "source": [
        "resY_lasso, resD_lasso = result_lasso[4], result_lasso[5]\n",
        "print((\"Controls explain the following fraction of variance of Outcome\",\n",
        "       max(1 - np.var(resY_lasso) / np.var(peacefactorR), 0)))\n",
        "print((\"Controls explain the following fraction of variance of Treatment\",\n",
        "       max(1 - np.var(resD_lasso) / np.var(directlyharmedR), 0)))"
      ]
    },
    {
      "cell_type": "code",
      "execution_count": 17,
      "id": "27",
      "metadata": {
        "id": "27"
      },
      "outputs": [],
      "source": [
        "res = (resY_lasso, resD_lasso)"
      ]
    },
    {
      "cell_type": "code",
      "execution_count": 18,
      "id": "28",
      "metadata": {
        "id": "28",
        "outputId": "58969b09-ba76-4010-8015-7604f03c2b68",
        "colab": {
          "base_uri": "https://localhost:8080/"
        }
      },
      "outputs": [
        {
          "output_type": "stream",
          "name": "stdout",
          "text": [
            "[beta - phi, beta + phi]:  (np.float64(0.07411642707725397), np.float64(0.12655676829499982))\n"
          ]
        }
      ],
      "source": [
        "print(\"[beta - phi, beta + phi]: \", dml_sensitivity_bounds(res, 0.16, 0.01))"
      ]
    },
    {
      "cell_type": "code",
      "execution_count": 19,
      "id": "29",
      "metadata": {
        "id": "29"
      },
      "outputs": [],
      "source": [
        "eta_asq, eta_ysq, lower, upper = dml_sensitivity_contours(res, 0.4, 0.4, alpha=0.05)\n",
        "# Sensitivity parameter `eta_ysq` = R2_{Y ~ A|D} ranges in `[0, y_upper]`\n",
        "# and `eta_asq` = R2_{D ~ A} ranges in `[0, a_upper]`."
      ]
    },
    {
      "cell_type": "code",
      "execution_count": 20,
      "id": "30",
      "metadata": {
        "id": "30",
        "outputId": "084b68d2-5a5a-45c2-a233-81cf8ee045f4",
        "colab": {
          "base_uri": "https://localhost:8080/",
          "height": 490
        }
      },
      "outputs": [
        {
          "output_type": "execute_result",
          "data": {
            "text/plain": [
              "Text(0, 0.5, 'Partial R2 of confounder(s) with the outcome')"
            ]
          },
          "metadata": {},
          "execution_count": 20
        },
        {
          "output_type": "display_data",
          "data": {
            "text/plain": [
              "<Figure size 640x480 with 1 Axes>"
            ],
            "image/png": "[encoded data removed]"
          },
          "metadata": {}
        }
      ],
      "source": [
        "contours = plt.contour(eta_asq, eta_ysq, lower, 6, linestyles='-', colors='blue')\n",
        "plt.clabel(contours, inline=True, fontsize=8)\n",
        "plt.title('Lower limit')\n",
        "plt.xlabel('Partial R2 of confounder(s) with the treatment')\n",
        "plt.ylabel('Partial R2 of confounder(s) with the outcome')"
      ]
    },
    {
      "cell_type": "markdown",
      "id": "31",
      "metadata": {
        "id": "31"
      },
      "source": [
        "## Reducing Instability by Calling DML Multiple Times"
      ]
    },
    {
      "cell_type": "code",
      "execution_count": 21,
      "id": "32",
      "metadata": {
        "id": "32"
      },
      "outputs": [],
      "source": [
        "# redefine models without setting state -- random_state controls train_test_split downstream\n",
        "modely = make_pipeline(StandardScaler(), lasso_model())\n",
        "modeld = make_pipeline(StandardScaler(), lasso_model())\n",
        "res_lasso_list = []\n",
        "for i in range(5):\n",
        "    result_lasso = dml(Z, directlyharmedR, peacefactorR, modely, modeld, nfolds=10,\n",
        "                       classifier=False, clu=data['village'], cluster=True)\n",
        "    resY_lasso, resD_lasso = result_lasso[4], result_lasso[5]\n",
        "    res_lasso_list.append((resY_lasso, resD_lasso))"
      ]
    },
    {
      "cell_type": "code",
      "execution_count": 22,
      "id": "33",
      "metadata": {
        "id": "33",
        "outputId": "6070ac76-f9d7-40e7-e08d-07ef3164a857",
        "colab": {
          "base_uri": "https://localhost:8080/"
        }
      },
      "outputs": [
        {
          "output_type": "stream",
          "name": "stdout",
          "text": [
            "[beta - phi, beta + phi]:  (np.float64(0.0741795373130083), np.float64(0.12655721535240178))\n",
            "With Sampling Uncertainty at the 0.05 level: (np.float64(0.029360350378818033), np.float64(0.17133438983990104))\n"
          ]
        }
      ],
      "source": [
        "print(\"[beta - phi, beta + phi]: \", dml_sensitivity_bounds(res_lasso_list, 0.16, 0.01))\n",
        "alpha = 0.05\n",
        "print(f\"With Sampling Uncertainty at the {alpha} level:\",\n",
        "      dml_sensitivity_bounds(res_lasso_list, .16, .01, alpha=alpha))"
      ]
    },
    {
      "cell_type": "markdown",
      "id": "34",
      "metadata": {
        "id": "34",
        "papermill": {
          "duration": 0.030825,
          "end_time": "2021-04-03T12:55:42.286467",
          "exception": false,
          "start_time": "2021-04-03T12:55:42.255642",
          "status": "completed"
        },
        "tags": []
      },
      "source": [
        "## Random Forest for partialling out"
      ]
    },
    {
      "cell_type": "markdown",
      "id": "35",
      "metadata": {
        "id": "35",
        "papermill": {
          "duration": 0.030332,
          "end_time": "2021-04-03T12:55:42.347072",
          "exception": false,
          "start_time": "2021-04-03T12:55:42.316740",
          "status": "completed"
        },
        "tags": []
      },
      "source": [
        "The following code does DML with clustered standard errors by village"
      ]
    },
    {
      "cell_type": "code",
      "execution_count": 23,
      "id": "36",
      "metadata": {
        "id": "36",
        "outputId": "3955aa44-36d2-4520-ba06-14959bbdf25f",
        "colab": {
          "base_uri": "https://localhost:8080/",
          "height": 89
        }
      },
      "outputs": [
        {
          "output_type": "execute_result",
          "data": {
            "text/plain": [
              "    estimate    stderr     lower    upper    rmse y   rmse D\n",
              "RF  0.089426  0.023022  0.044302  0.13455  0.256552  0.39034"
            ],
            "text/html": [
              "\n",
              "  <div id=\"df-491c8303-211f-4258-8e35-ed7951c66fbf\" class=\"colab-df-container\">\n",
              "    <div>\n",
              "<style scoped>\n",
              "    .dataframe tbody tr th:only-of-type {\n",
              "        vertical-align: middle;\n",
              "    }\n",
              "\n",
              "    .dataframe tbody tr th {\n",
              "        vertical-align: top;\n",
              "    }\n",
              "\n",
              "    .dataframe thead th {\n",
              "        text-align: right;\n",
              "    }\n",
              "</style>\n",
              "<table border=\"1\" class=\"dataframe\">\n",
              "  <thead>\n",
              "    <tr style=\"text-align: right;\">\n",
              "      <th></th>\n",
              "      <th>estimate</th>\n",
              "      <th>stderr</th>\n",
              "      <th>lower</th>\n",
              "      <th>upper</th>\n",
              "      <th>rmse y</th>\n",
              "      <th>rmse D</th>\n",
              "    </tr>\n",
              "  </thead>\n",
              "  <tbody>\n",
              "    <tr>\n",
              "      <th>RF</th>\n",
              "      <td>0.089426</td>\n",
              "      <td>0.023022</td>\n",
              "      <td>0.044302</td>\n",
              "      <td>0.13455</td>\n",
              "      <td>0.256552</td>\n",
              "      <td>0.39034</td>\n",
              "    </tr>\n",
              "  </tbody>\n",
              "</table>\n",
              "</div>\n",
              "    <div class=\"colab-df-buttons\">\n",
              "\n",
              "  <div class=\"colab-df-container\">\n",
              "    <button class=\"colab-df-convert\" onclick=\"convertToInteractive('df-491c8303-211f-4258-8e35-ed7951c66fbf')\"\n",
              "            title=\"Convert this dataframe to an interactive table.\"\n",
              "            style=\"display:none;\">\n",
              "\n",
              "  <svg xmlns=\"http://www.w3.org/2000/svg\" height=\"24px\" viewBox=\"0 -960 960 960\">\n",
              "    <path d=\"M120-120v-720h720v720H120Zm60-500h600v-160H180v160Zm220 220h160v-160H400v160Zm0 220h160v-160H400v160ZM180-400h160v-160H180v160Zm440 0h160v-160H620v160ZM180-180h160v-160H180v160Zm440 0h160v-160H620v160Z\"/>\n",
              "  </svg>\n",
              "    </button>\n",
              "\n",
              "  <style>\n",
              "    .colab-df-container {\n",
              "      display:flex;\n",
              "      gap: 12px;\n",
              "    }\n",
              "\n",
              "    .colab-df-convert {\n",
              "      background-color: #E8F0FE;\n",
              "      border: none;\n",
              "      border-radius: 50%;\n",
              "      cursor: pointer;\n",
              "      display: none;\n",
              "      fill: #1967D2;\n",
              "      height: 32px;\n",
              "      padding: 0 0 0 0;\n",
              "      width: 32px;\n",
              "    }\n",
              "\n",
              "    .colab-df-convert:hover {\n",
              "      background-color: #E2EBFA;\n",
              "      box-shadow: 0px 1px 2px rgba(60, 64, 67, 0.3), 0px 1px 3px 1px rgba(60, 64, 67, 0.15);\n",
              "      fill: #174EA6;\n",
              "    }\n",
              "\n",
              "    .colab-df-buttons div {\n",
              "      margin-bottom: 4px;\n",
              "    }\n",
              "\n",
              "    [theme=dark] .colab-df-convert {\n",
              "      background-color: #3B4455;\n",
              "      fill: #D2E3FC;\n",
              "    }\n",
              "\n",
              "    [theme=dark] .colab-df-convert:hover {\n",
              "      background-color: #434B5C;\n",
              "      box-shadow: 0px 1px 3px 1px rgba(0, 0, 0, 0.15);\n",
              "      filter: drop-shadow(0px 1px 2px rgba(0, 0, 0, 0.3));\n",
              "      fill: #FFFFFF;\n",
              "    }\n",
              "  </style>\n",
              "\n",
              "    <script>\n",
              "      const buttonEl =\n",
              "        document.querySelector('#df-491c8303-211f-4258-8e35-ed7951c66fbf button.colab-df-convert');\n",
              "      buttonEl.style.display =\n",
              "        google.colab.kernel.accessAllowed ? 'block' : 'none';\n",
              "\n",
              "      async function convertToInteractive(key) {\n",
              "        const element = document.querySelector('#df-491c8303-211f-4258-8e35-ed7951c66fbf');\n",
              "        const dataTable =\n",
              "          await google.colab.kernel.invokeFunction('convertToInteractive',\n",
              "                                                    [key], {});\n",
              "        if (!dataTable) return;\n",
              "\n",
              "        const docLinkHtml = 'Like what you see? Visit the ' +\n",
              "          '<a target=\"_blank\" href=https://colab.research.google.com/notebooks/data_table.ipynb>data table notebook</a>'\n",
              "          + ' to learn more about interactive tables.';\n",
              "        element.innerHTML = '';\n",
              "        dataTable['output_type'] = 'display_data';\n",
              "        await google.colab.output.renderOutput(dataTable, element);\n",
              "        const docLink = document.createElement('div');\n",
              "        docLink.innerHTML = docLinkHtml;\n",
              "        element.appendChild(docLink);\n",
              "      }\n",
              "    </script>\n",
              "  </div>\n",
              "\n",
              "\n",
              "  <div id=\"id_88458f0e-7fd5-4dbe-ae4f-a49811fb6881\">\n",
              "    <style>\n",
              "      .colab-df-generate {\n",
              "        background-color: #E8F0FE;\n",
              "        border: none;\n",
              "        border-radius: 50%;\n",
              "        cursor: pointer;\n",
              "        display: none;\n",
              "        fill: #1967D2;\n",
              "        height: 32px;\n",
              "        padding: 0 0 0 0;\n",
              "        width: 32px;\n",
              "      }\n",
              "\n",
              "      .colab-df-generate:hover {\n",
              "        background-color: #E2EBFA;\n",
              "        box-shadow: 0px 1px 2px rgba(60, 64, 67, 0.3), 0px 1px 3px 1px rgba(60, 64, 67, 0.15);\n",
              "        fill: #174EA6;\n",
              "      }\n",
              "\n",
              "      [theme=dark] .colab-df-generate {\n",
              "        background-color: #3B4455;\n",
              "        fill: #D2E3FC;\n",
              "      }\n",
              "\n",
              "      [theme=dark] .colab-df-generate:hover {\n",
              "        background-color: #434B5C;\n",
              "        box-shadow: 0px 1px 3px 1px rgba(0, 0, 0, 0.15);\n",
              "        filter: drop-shadow(0px 1px 2px rgba(0, 0, 0, 0.3));\n",
              "        fill: #FFFFFF;\n",
              "      }\n",
              "    </style>\n",
              "    <button class=\"colab-df-generate\" onclick=\"generateWithVariable('table_RF')\"\n",
              "            title=\"Generate code using this dataframe.\"\n",
              "            style=\"display:none;\">\n",
              "\n",
              "  <svg xmlns=\"http://www.w3.org/2000/svg\" height=\"24px\"viewBox=\"0 0 24 24\"\n",
              "       width=\"24px\">\n",
              "    <path d=\"M7,19H8.4L18.45,9,17,7.55,7,17.6ZM5,21V16.75L18.45,3.32a2,2,0,0,1,2.83,0l1.4,1.43a1.91,1.91,0,0,1,.58,1.4,1.91,1.91,0,0,1-.58,1.4L9.25,21ZM18.45,9,17,7.55Zm-12,3A5.31,5.31,0,0,0,4.9,8.1,5.31,5.31,0,0,0,1,6.5,5.31,5.31,0,0,0,4.9,4.9,5.31,5.31,0,0,0,6.5,1,5.31,5.31,0,0,0,8.1,4.9,5.31,5.31,0,0,0,12,6.5,5.46,5.46,0,0,0,6.5,12Z\"/>\n",
              "  </svg>\n",
              "    </button>\n",
              "    <script>\n",
              "      (() => {\n",
              "      const buttonEl =\n",
              "        document.querySelector('#id_88458f0e-7fd5-4dbe-ae4f-a49811fb6881 button.colab-df-generate');\n",
              "      buttonEl.style.display =\n",
              "        google.colab.kernel.accessAllowed ? 'block' : 'none';\n",
              "\n",
              "      buttonEl.onclick = () => {\n",
              "        google.colab.notebook.generateWithVariable('table_RF');\n",
              "      }\n",
              "      })();\n",
              "    </script>\n",
              "  </div>\n",
              "\n",
              "    </div>\n",
              "  </div>\n"
            ],
            "application/vnd.google.colaboratory.intrinsic+json": {
              "type": "dataframe",
              "variable_name": "table_RF",
              "summary": "{\n  \"name\": \"table_RF\",\n  \"rows\": 1,\n  \"fields\": [\n    {\n      \"column\": \"estimate\",\n      \"properties\": {\n        \"dtype\": \"number\",\n        \"std\": null,\n        \"min\": 0.089425770918098,\n        \"max\": 0.089425770918098,\n        \"num_unique_values\": 1,\n        \"samples\": [\n          0.089425770918098\n        ],\n        \"semantic_type\": \"\",\n        \"description\": \"\"\n      }\n    },\n    {\n      \"column\": \"stderr\",\n      \"properties\": {\n        \"dtype\": \"number\",\n        \"std\": null,\n        \"min\": 0.023022490572298753,\n        \"max\": 0.023022490572298753,\n        \"num_unique_values\": 1,\n        \"samples\": [\n          0.023022490572298753\n        ],\n        \"semantic_type\": \"\",\n        \"description\": \"\"\n      }\n    },\n    {\n      \"column\": \"lower\",\n      \"properties\": {\n        \"dtype\": \"number\",\n        \"std\": null,\n        \"min\": 0.044301689396392445,\n        \"max\": 0.044301689396392445,\n        \"num_unique_values\": 1,\n        \"samples\": [\n          0.044301689396392445\n        ],\n        \"semantic_type\": \"\",\n        \"description\": \"\"\n      }\n    },\n    {\n      \"column\": \"upper\",\n      \"properties\": {\n        \"dtype\": \"number\",\n        \"std\": null,\n        \"min\": 0.13454985243980355,\n        \"max\": 0.13454985243980355,\n        \"num_unique_values\": 1,\n        \"samples\": [\n          0.13454985243980355\n        ],\n        \"semantic_type\": \"\",\n        \"description\": \"\"\n      }\n    },\n    {\n      \"column\": \"rmse y\",\n      \"properties\": {\n        \"dtype\": \"number\",\n        \"std\": null,\n        \"min\": 0.25655234306427854,\n        \"max\": 0.25655234306427854,\n        \"num_unique_values\": 1,\n        \"samples\": [\n          0.25655234306427854\n        ],\n        \"semantic_type\": \"\",\n        \"description\": \"\"\n      }\n    },\n    {\n      \"column\": \"rmse D\",\n      \"properties\": {\n        \"dtype\": \"number\",\n        \"std\": null,\n        \"min\": 0.3903399394722176,\n        \"max\": 0.3903399394722176,\n        \"num_unique_values\": 1,\n        \"samples\": [\n          0.3903399394722176\n        ],\n        \"semantic_type\": \"\",\n        \"description\": \"\"\n      }\n    }\n  ]\n}"
            }
          },
          "metadata": {},
          "execution_count": 23
        }
      ],
      "source": [
        "# DML with Random Forests.\n",
        "modely = RandomForestRegressor(n_estimators=100, min_samples_leaf=5, random_state=123)\n",
        "modeld = RandomForestRegressor(n_estimators=100, min_samples_leaf=5, random_state=123)\n",
        "\n",
        "# Run DML model with nfolds folds of cross-fitting (computationally intensive)\n",
        "result_RF = dml(Z, directlyharmedR, peacefactorR, modely, modeld, nfolds=10,\n",
        "                classifier=False, clu=data['village'], cluster=True)\n",
        "table_RF = summary(*result_RF, Z, directlyharmedR, peacefactorR, name='RF')\n",
        "table_RF"
      ]
    },
    {
      "cell_type": "code",
      "execution_count": 24,
      "id": "37",
      "metadata": {
        "id": "37",
        "outputId": "4ce21638-afb3-4efb-80fd-8160974c606a",
        "colab": {
          "base_uri": "https://localhost:8080/"
        }
      },
      "outputs": [
        {
          "output_type": "stream",
          "name": "stdout",
          "text": [
            "('Controls explain the following fraction of variance of Outcome', 0.05716652667337452)\n",
            "('Controls explain the following fraction of variance of Treatment', 0)\n"
          ]
        }
      ],
      "source": [
        "resY_RF, resD_RF = result_RF[4], result_RF[5]\n",
        "print((\"Controls explain the following fraction of variance of Outcome\",\n",
        "       max(1 - np.var(resY_RF) / np.var(peacefactorR), 0)))\n",
        "print((\"Controls explain the following fraction of variance of Treatment\",\n",
        "       max(1 - np.var(resD_RF) / np.var(directlyharmedR), 0)))"
      ]
    },
    {
      "cell_type": "code",
      "execution_count": 25,
      "id": "38",
      "metadata": {
        "id": "38",
        "outputId": "76e606aa-487a-4ad0-b942-1928215e7b1c",
        "colab": {
          "base_uri": "https://localhost:8080/"
        }
      },
      "outputs": [
        {
          "output_type": "stream",
          "name": "stdout",
          "text": [
            "[beta - phi, beta + phi]:  (np.float64(0.02007698288992018), np.float64(0.16367052540652904))\n"
          ]
        }
      ],
      "source": [
        "print(\"[beta - phi, beta + phi]: \", dml_sensitivity_bounds((resY_RF, resD_RF), 0.16, 0.01, alpha=0.05))"
      ]
    },
    {
      "cell_type": "markdown",
      "id": "39",
      "metadata": {
        "id": "39"
      },
      "source": [
        "## Reducing Instability by Calling DML Many Times"
      ]
    },
    {
      "cell_type": "code",
      "execution_count": 26,
      "id": "40",
      "metadata": {
        "id": "40"
      },
      "outputs": [],
      "source": [
        "# redefine models without setting state -- random_state controls train_test_split downstream\n",
        "modely = RandomForestRegressor(n_estimators=100, min_samples_leaf=5)\n",
        "modeld = RandomForestRegressor(n_estimators=100, min_samples_leaf=5)\n",
        "res_RF_list = []\n",
        "for i in range(5):\n",
        "    result_RF = dml(Z, directlyharmedR, peacefactorR, modely, modeld, nfolds=10,\n",
        "                    classifier=False, clu=data['village'], cluster=True)\n",
        "    resY_RF, resD_RF = result_RF[4], result_RF[5]\n",
        "    res_RF_list.append((resY_RF, resD_RF))"
      ]
    },
    {
      "cell_type": "code",
      "execution_count": 27,
      "id": "41",
      "metadata": {
        "id": "41",
        "outputId": "1688c685-84c6-413e-e4a8-029d46f105e8",
        "colab": {
          "base_uri": "https://localhost:8080/"
        }
      },
      "outputs": [
        {
          "output_type": "stream",
          "name": "stdout",
          "text": [
            "[beta - phi, beta + phi]:  (np.float64(0.06805979398003933), np.float64(0.12032338578107826))\n",
            "With Sampling Uncertainty at the 0.05 level: (np.float64(0.022461984127431826), np.float64(0.16587823755717301))\n"
          ]
        }
      ],
      "source": [
        "print(\"[beta - phi, beta + phi]: \", dml_sensitivity_bounds(res_RF_list, 0.16, 0.01))\n",
        "alpha = 0.05\n",
        "print(f\"With Sampling Uncertainty at the {alpha} level:\",\n",
        "      dml_sensitivity_bounds(res_RF_list, .16, .01, alpha=alpha))"
      ]
    },
    {
      "cell_type": "code",
      "execution_count": 28,
      "id": "42",
      "metadata": {
        "id": "42",
        "papermill": {
          "duration": 40.040643,
          "end_time": "2021-04-03T12:56:22.614312",
          "exception": false,
          "start_time": "2021-04-03T12:55:42.573669",
          "status": "completed"
        },
        "tags": [],
        "outputId": "c7d5768e-6b98-450b-f071-f9dc90ac0bc7",
        "colab": {
          "base_uri": "https://localhost:8080/",
          "height": 490
        }
      },
      "outputs": [
        {
          "output_type": "execute_result",
          "data": {
            "text/plain": [
              "Text(0, 0.5, 'Partial R2 of confounder(s) with the outcome')"
            ]
          },
          "metadata": {},
          "execution_count": 28
        },
        {
          "output_type": "display_data",
          "data": {
            "text/plain": [
              "<Figure size 640x480 with 1 Axes>"
            ],
            "image/png": "[encoded data removed]"
          },
          "metadata": {}
        }
      ],
      "source": [
        "alpha = 0.05\n",
        "eta_asq, eta_ysq, lower, upper = dml_sensitivity_contours(res_RF_list, 0.4, 0.4, alpha=alpha)\n",
        "contours = plt.contour(eta_asq, eta_ysq, lower, 6, linestyles='-', colors='blue')\n",
        "plt.clabel(contours, inline=True, fontsize=8)\n",
        "plt.title('Lower limit')\n",
        "plt.xlabel('Partial R2 of confounder(s) with the treatment')\n",
        "plt.ylabel('Partial R2 of confounder(s) with the outcome')"
      ]
    },
    {
      "cell_type": "code",
      "execution_count": 28,
      "id": "43",
      "metadata": {
        "id": "43"
      },
      "outputs": [],
      "source": []
    }
  ],
  "metadata": {
    "colab": {
      "provenance": []
    },
    "kernelspec": {
      "display_name": "Python 3 (ipykernel)",
      "language": "python",
      "name": "python3"
    },
    "language_info": {
      "codemirror_mode": {
        "name": "ipython",
        "version": 3
      },
      "file_extension": ".py",
      "mimetype": "text/x-python",
      "name": "python",
      "nbconvert_exporter": "python",
      "pygments_lexer": "ipython3",
      "version": "3.12.3"
    },
    "papermill": {
      "default_parameters": {},
      "duration": 60.897772,
      "end_time": "2021-04-03T12:56:22.764591",
      "environment_variables": {},
      "exception": null,
      "input_path": "__notebook__.ipynb",
      "output_path": "__notebook__.ipynb",
      "parameters": {},
      "start_time": "2021-04-03T12:55:21.866819",
      "version": "2.3.3"
    }
  },
  "nbformat": 4,
  "nbformat_minor": 5
}