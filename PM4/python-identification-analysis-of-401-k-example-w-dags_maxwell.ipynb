{
  "cells": [
    {
      "cell_type": "markdown",
      "metadata": {
        "id": "bhmud6TUPIE1",
        "papermill": {
          "duration": 0.011558,
          "end_time": "2021-04-20T21:06:30.038601",
          "exception": false,
          "start_time": "2021-04-20T21:06:30.027043",
          "status": "completed"
        },
        "tags": []
      },
      "source": [
        "# Using PGMPY in the Analysis of Impact of 401(k) on Net Financial Wealth\n"
      ]
    },
    {
      "cell_type": "code",
      "execution_count": 1,
      "metadata": {
        "_execution_state": "idle",
        "_uuid": "051d70d956493feee0c6d64651c6a088724dca2a",
        "id": "t1xb29BvPIE4",
        "papermill": {
          "duration": 25.408317,
          "end_time": "2021-04-20T21:06:55.456487",
          "exception": false,
          "start_time": "2021-04-20T21:06:30.048170",
          "status": "completed"
        },
        "tags": [],
        "outputId": "e2580c8a-1502-4ec4-f4c3-d3cd50e76d16",
        "colab": {
          "base_uri": "https://localhost:8080/"
        }
      },
      "outputs": [
        {
          "output_type": "stream",
          "name": "stdout",
          "text": [
            "Collecting pgmpy\n",
            "  Downloading pgmpy-0.1.26-py3-none-any.whl.metadata (9.1 kB)\n",
            "Requirement already satisfied: networkx in /usr/local/lib/python3.11/dist-packages (from pgmpy) (3.4.2)\n",
            "Requirement already satisfied: numpy in /usr/local/lib/python3.11/dist-packages (from pgmpy) (1.26.4)\n",
            "Requirement already satisfied: scipy in /usr/local/lib/python3.11/dist-packages (from pgmpy) (1.13.1)\n",
            "Requirement already satisfied: scikit-learn in /usr/local/lib/python3.11/dist-packages (from pgmpy) (1.6.1)\n",
            "Requirement already satisfied: pandas in /usr/local/lib/python3.11/dist-packages (from pgmpy) (2.2.2)\n",
            "Requirement already satisfied: pyparsing in /usr/local/lib/python3.11/dist-packages (from pgmpy) (3.2.1)\n",
            "Requirement already satisfied: torch in /usr/local/lib/python3.11/dist-packages (from pgmpy) (2.5.1+cu124)\n",
            "Requirement already satisfied: statsmodels in /usr/local/lib/python3.11/dist-packages (from pgmpy) (0.14.4)\n",
            "Requirement already satisfied: tqdm in /usr/local/lib/python3.11/dist-packages (from pgmpy) (4.67.1)\n",
            "Requirement already satisfied: joblib in /usr/local/lib/python3.11/dist-packages (from pgmpy) (1.4.2)\n",
            "Requirement already satisfied: opt-einsum in /usr/local/lib/python3.11/dist-packages (from pgmpy) (3.4.0)\n",
            "Requirement already satisfied: xgboost in /usr/local/lib/python3.11/dist-packages (from pgmpy) (2.1.4)\n",
            "Requirement already satisfied: google-generativeai in /usr/local/lib/python3.11/dist-packages (from pgmpy) (0.8.4)\n",
            "Requirement already satisfied: google-ai-generativelanguage==0.6.15 in /usr/local/lib/python3.11/dist-packages (from google-generativeai->pgmpy) (0.6.15)\n",
            "Requirement already satisfied: google-api-core in /usr/local/lib/python3.11/dist-packages (from google-generativeai->pgmpy) (2.24.1)\n",
            "Requirement already satisfied: google-api-python-client in /usr/local/lib/python3.11/dist-packages (from google-generativeai->pgmpy) (2.160.0)\n",
            "Requirement already satisfied: google-auth>=2.15.0 in /usr/local/lib/python3.11/dist-packages (from google-generativeai->pgmpy) (2.38.0)\n",
            "Requirement already satisfied: protobuf in /usr/local/lib/python3.11/dist-packages (from google-generativeai->pgmpy) (4.25.6)\n",
            "Requirement already satisfied: pydantic in /usr/local/lib/python3.11/dist-packages (from google-generativeai->pgmpy) (2.10.6)\n",
            "Requirement already satisfied: typing-extensions in /usr/local/lib/python3.11/dist-packages (from google-generativeai->pgmpy) (4.12.2)\n",
            "Requirement already satisfied: proto-plus<2.0.0dev,>=1.22.3 in /usr/local/lib/python3.11/dist-packages (from google-ai-generativelanguage==0.6.15->google-generativeai->pgmpy) (1.26.0)\n",
            "Requirement already satisfied: python-dateutil>=2.8.2 in /usr/local/lib/python3.11/dist-packages (from pandas->pgmpy) (2.8.2)\n",
            "Requirement already satisfied: pytz>=2020.1 in /usr/local/lib/python3.11/dist-packages (from pandas->pgmpy) (2025.1)\n",
            "Requirement already satisfied: tzdata>=2022.7 in /usr/local/lib/python3.11/dist-packages (from pandas->pgmpy) (2025.1)\n",
            "Requirement already satisfied: threadpoolctl>=3.1.0 in /usr/local/lib/python3.11/dist-packages (from scikit-learn->pgmpy) (3.5.0)\n",
            "Requirement already satisfied: patsy>=0.5.6 in /usr/local/lib/python3.11/dist-packages (from statsmodels->pgmpy) (1.0.1)\n",
            "Requirement already satisfied: packaging>=21.3 in /usr/local/lib/python3.11/dist-packages (from statsmodels->pgmpy) (24.2)\n",
            "Requirement already satisfied: filelock in /usr/local/lib/python3.11/dist-packages (from torch->pgmpy) (3.17.0)\n",
            "Requirement already satisfied: jinja2 in /usr/local/lib/python3.11/dist-packages (from torch->pgmpy) (3.1.5)\n",
            "Requirement already satisfied: fsspec in /usr/local/lib/python3.11/dist-packages (from torch->pgmpy) (2024.10.0)\n",
            "Collecting nvidia-cuda-nvrtc-cu12==12.4.127 (from torch->pgmpy)\n",
            "  Downloading nvidia_cuda_nvrtc_cu12-12.4.127-py3-none-manylinux2014_x86_64.whl.metadata (1.5 kB)\n",
            "Collecting nvidia-cuda-runtime-cu12==12.4.127 (from torch->pgmpy)\n",
            "  Downloading nvidia_cuda_runtime_cu12-12.4.127-py3-none-manylinux2014_x86_64.whl.metadata (1.5 kB)\n",
            "Collecting nvidia-cuda-cupti-cu12==12.4.127 (from torch->pgmpy)\n",
            "  Downloading nvidia_cuda_cupti_cu12-12.4.127-py3-none-manylinux2014_x86_64.whl.metadata (1.6 kB)\n",
            "Collecting nvidia-cudnn-cu12==9.1.0.70 (from torch->pgmpy)\n",
            "  Downloading nvidia_cudnn_cu12-9.1.0.70-py3-none-manylinux2014_x86_64.whl.metadata (1.6 kB)\n",
            "Collecting nvidia-cublas-cu12==12.4.5.8 (from torch->pgmpy)\n",
            "  Downloading nvidia_cublas_cu12-12.4.5.8-py3-none-manylinux2014_x86_64.whl.metadata (1.5 kB)\n",
            "Collecting nvidia-cufft-cu12==11.2.1.3 (from torch->pgmpy)\n",
            "  Downloading nvidia_cufft_cu12-11.2.1.3-py3-none-manylinux2014_x86_64.whl.metadata (1.5 kB)\n",
            "Collecting nvidia-curand-cu12==10.3.5.147 (from torch->pgmpy)\n",
            "  Downloading nvidia_curand_cu12-10.3.5.147-py3-none-manylinux2014_x86_64.whl.metadata (1.5 kB)\n",
            "Collecting nvidia-cusolver-cu12==11.6.1.9 (from torch->pgmpy)\n",
            "  Downloading nvidia_cusolver_cu12-11.6.1.9-py3-none-manylinux2014_x86_64.whl.metadata (1.6 kB)\n",
            "Collecting nvidia-cusparse-cu12==12.3.1.170 (from torch->pgmpy)\n",
            "  Downloading nvidia_cusparse_cu12-12.3.1.170-py3-none-manylinux2014_x86_64.whl.metadata (1.6 kB)\n",
            "Requirement already satisfied: nvidia-nccl-cu12==2.21.5 in /usr/local/lib/python3.11/dist-packages (from torch->pgmpy) (2.21.5)\n",
            "Requirement already satisfied: nvidia-nvtx-cu12==12.4.127 in /usr/local/lib/python3.11/dist-packages (from torch->pgmpy) (12.4.127)\n",
            "Collecting nvidia-nvjitlink-cu12==12.4.127 (from torch->pgmpy)\n",
            "  Downloading nvidia_nvjitlink_cu12-12.4.127-py3-none-manylinux2014_x86_64.whl.metadata (1.5 kB)\n",
            "Requirement already satisfied: triton==3.1.0 in /usr/local/lib/python3.11/dist-packages (from torch->pgmpy) (3.1.0)\n",
            "Requirement already satisfied: sympy==1.13.1 in /usr/local/lib/python3.11/dist-packages (from torch->pgmpy) (1.13.1)\n",
            "Requirement already satisfied: mpmath<1.4,>=1.1.0 in /usr/local/lib/python3.11/dist-packages (from sympy==1.13.1->torch->pgmpy) (1.3.0)\n",
            "Requirement already satisfied: googleapis-common-protos<2.0.dev0,>=1.56.2 in /usr/local/lib/python3.11/dist-packages (from google-api-core->google-generativeai->pgmpy) (1.69.0)\n",
            "Requirement already satisfied: requests<3.0.0.dev0,>=2.18.0 in /usr/local/lib/python3.11/dist-packages (from google-api-core->google-generativeai->pgmpy) (2.32.3)\n",
            "Requirement already satisfied: cachetools<6.0,>=2.0.0 in /usr/local/lib/python3.11/dist-packages (from google-auth>=2.15.0->google-generativeai->pgmpy) (5.5.2)\n",
            "Requirement already satisfied: pyasn1-modules>=0.2.1 in /usr/local/lib/python3.11/dist-packages (from google-auth>=2.15.0->google-generativeai->pgmpy) (0.4.1)\n",
            "Requirement already satisfied: rsa<5,>=3.1.4 in /usr/local/lib/python3.11/dist-packages (from google-auth>=2.15.0->google-generativeai->pgmpy) (4.9)\n",
            "Requirement already satisfied: six>=1.5 in /usr/local/lib/python3.11/dist-packages (from python-dateutil>=2.8.2->pandas->pgmpy) (1.17.0)\n",
            "Requirement already satisfied: httplib2<1.dev0,>=0.19.0 in /usr/local/lib/python3.11/dist-packages (from google-api-python-client->google-generativeai->pgmpy) (0.22.0)\n",
            "Requirement already satisfied: google-auth-httplib2<1.0.0,>=0.2.0 in /usr/local/lib/python3.11/dist-packages (from google-api-python-client->google-generativeai->pgmpy) (0.2.0)\n",
            "Requirement already satisfied: uritemplate<5,>=3.0.1 in /usr/local/lib/python3.11/dist-packages (from google-api-python-client->google-generativeai->pgmpy) (4.1.1)\n",
            "Requirement already satisfied: MarkupSafe>=2.0 in /usr/local/lib/python3.11/dist-packages (from jinja2->torch->pgmpy) (3.0.2)\n",
            "Requirement already satisfied: annotated-types>=0.6.0 in /usr/local/lib/python3.11/dist-packages (from pydantic->google-generativeai->pgmpy) (0.7.0)\n",
            "Requirement already satisfied: pydantic-core==2.27.2 in /usr/local/lib/python3.11/dist-packages (from pydantic->google-generativeai->pgmpy) (2.27.2)\n",
            "Requirement already satisfied: grpcio<2.0dev,>=1.33.2 in /usr/local/lib/python3.11/dist-packages (from google-api-core[grpc]!=2.0.*,!=2.1.*,!=2.10.*,!=2.2.*,!=2.3.*,!=2.4.*,!=2.5.*,!=2.6.*,!=2.7.*,!=2.8.*,!=2.9.*,<3.0.0dev,>=1.34.1->google-ai-generativelanguage==0.6.15->google-generativeai->pgmpy) (1.70.0)\n",
            "Requirement already satisfied: grpcio-status<2.0.dev0,>=1.33.2 in /usr/local/lib/python3.11/dist-packages (from google-api-core[grpc]!=2.0.*,!=2.1.*,!=2.10.*,!=2.2.*,!=2.3.*,!=2.4.*,!=2.5.*,!=2.6.*,!=2.7.*,!=2.8.*,!=2.9.*,<3.0.0dev,>=1.34.1->google-ai-generativelanguage==0.6.15->google-generativeai->pgmpy) (1.62.3)\n",
            "Requirement already satisfied: pyasn1<0.7.0,>=0.4.6 in /usr/local/lib/python3.11/dist-packages (from pyasn1-modules>=0.2.1->google-auth>=2.15.0->google-generativeai->pgmpy) (0.6.1)\n",
            "Requirement already satisfied: charset-normalizer<4,>=2 in /usr/local/lib/python3.11/dist-packages (from requests<3.0.0.dev0,>=2.18.0->google-api-core->google-generativeai->pgmpy) (3.4.1)\n",
            "Requirement already satisfied: idna<4,>=2.5 in /usr/local/lib/python3.11/dist-packages (from requests<3.0.0.dev0,>=2.18.0->google-api-core->google-generativeai->pgmpy) (3.10)\n",
            "Requirement already satisfied: urllib3<3,>=1.21.1 in /usr/local/lib/python3.11/dist-packages (from requests<3.0.0.dev0,>=2.18.0->google-api-core->google-generativeai->pgmpy) (2.3.0)\n",
            "Requirement already satisfied: certifi>=2017.4.17 in /usr/local/lib/python3.11/dist-packages (from requests<3.0.0.dev0,>=2.18.0->google-api-core->google-generativeai->pgmpy) (2025.1.31)\n",
            "Downloading pgmpy-0.1.26-py3-none-any.whl (2.0 MB)\n",
            "\u001b[2K   \u001b[90m━━━━━━━━━━━━━━━━━━━━━━━━━━━━━━━━━━━━━━━━\u001b[0m \u001b[32m2.0/2.0 MB\u001b[0m \u001b[31m11.9 MB/s\u001b[0m eta \u001b[36m0:00:00\u001b[0m\n",
            "\u001b[?25hDownloading nvidia_cublas_cu12-12.4.5.8-py3-none-manylinux2014_x86_64.whl (363.4 MB)\n",
            "\u001b[2K   \u001b[90m━━━━━━━━━━━━━━━━━━━━━━━━━━━━━━━━━━━━━━━━\u001b[0m \u001b[32m363.4/363.4 MB\u001b[0m \u001b[31m2.0 MB/s\u001b[0m eta \u001b[36m0:00:00\u001b[0m\n",
            "\u001b[?25hDownloading nvidia_cuda_cupti_cu12-12.4.127-py3-none-manylinux2014_x86_64.whl (13.8 MB)\n",
            "\u001b[2K   \u001b[90m━━━━━━━━━━━━━━━━━━━━━━━━━━━━━━━━━━━━━━━━\u001b[0m \u001b[32m13.8/13.8 MB\u001b[0m \u001b[31m17.3 MB/s\u001b[0m eta \u001b[36m0:00:00\u001b[0m\n",
            "\u001b[?25hDownloading nvidia_cuda_nvrtc_cu12-12.4.127-py3-none-manylinux2014_x86_64.whl (24.6 MB)\n",
            "\u001b[2K   \u001b[90m━━━━━━━━━━━━━━━━━━━━━━━━━━━━━━━━━━━━━━━━\u001b[0m \u001b[32m24.6/24.6 MB\u001b[0m \u001b[31m26.6 MB/s\u001b[0m eta \u001b[36m0:00:00\u001b[0m\n",
            "\u001b[?25hDownloading nvidia_cuda_runtime_cu12-12.4.127-py3-none-manylinux2014_x86_64.whl (883 kB)\n",
            "\u001b[2K   \u001b[90m━━━━━━━━━━━━━━━━━━━━━━━━━━━━━━━━━━━━━━━━\u001b[0m \u001b[32m883.7/883.7 kB\u001b[0m \u001b[31m31.8 MB/s\u001b[0m eta \u001b[36m0:00:00\u001b[0m\n",
            "\u001b[?25hDownloading nvidia_cudnn_cu12-9.1.0.70-py3-none-manylinux2014_x86_64.whl (664.8 MB)\n",
            "\u001b[2K   \u001b[90m━━━━━━━━━━━━━━━━━━━━━━━━━━━━━━━━━━━━━━━━\u001b[0m \u001b[32m664.8/664.8 MB\u001b[0m \u001b[31m2.0 MB/s\u001b[0m eta \u001b[36m0:00:00\u001b[0m\n",
            "\u001b[?25hDownloading nvidia_cufft_cu12-11.2.1.3-py3-none-manylinux2014_x86_64.whl (211.5 MB)\n",
            "\u001b[2K   \u001b[90m━━━━━━━━━━━━━━━━━━━━━━━━━━━━━━━━━━━━━━━━\u001b[0m \u001b[32m211.5/211.5 MB\u001b[0m \u001b[31m6.3 MB/s\u001b[0m eta \u001b[36m0:00:00\u001b[0m\n",
            "\u001b[?25hDownloading nvidia_curand_cu12-10.3.5.147-py3-none-manylinux2014_x86_64.whl (56.3 MB)\n",
            "\u001b[2K   \u001b[90m━━━━━━━━━━━━━━━━━━━━━━━━━━━━━━━━━━━━━━━━\u001b[0m \u001b[32m56.3/56.3 MB\u001b[0m \u001b[31m12.8 MB/s\u001b[0m eta \u001b[36m0:00:00\u001b[0m\n",
            "\u001b[?25hDownloading nvidia_cusolver_cu12-11.6.1.9-py3-none-manylinux2014_x86_64.whl (127.9 MB)\n",
            "\u001b[2K   \u001b[90m━━━━━━━━━━━━━━━━━━━━━━━━━━━━━━━━━━━━━━━━\u001b[0m \u001b[32m127.9/127.9 MB\u001b[0m \u001b[31m7.1 MB/s\u001b[0m eta \u001b[36m0:00:00\u001b[0m\n",
            "\u001b[?25hDownloading nvidia_cusparse_cu12-12.3.1.170-py3-none-manylinux2014_x86_64.whl (207.5 MB)\n",
            "\u001b[2K   \u001b[90m━━━━━━━━━━━━━━━━━━━━━━━━━━━━━━━━━━━━━━━━\u001b[0m \u001b[32m207.5/207.5 MB\u001b[0m \u001b[31m6.3 MB/s\u001b[0m eta \u001b[36m0:00:00\u001b[0m\n",
            "\u001b[?25hDownloading nvidia_nvjitlink_cu12-12.4.127-py3-none-manylinux2014_x86_64.whl (21.1 MB)\n",
            "\u001b[2K   \u001b[90m━━━━━━━━━━━━━━━━━━━━━━━━━━━━━━━━━━━━━━━━\u001b[0m \u001b[32m21.1/21.1 MB\u001b[0m \u001b[31m66.4 MB/s\u001b[0m eta \u001b[36m0:00:00\u001b[0m\n",
            "\u001b[?25hInstalling collected packages: nvidia-nvjitlink-cu12, nvidia-curand-cu12, nvidia-cufft-cu12, nvidia-cuda-runtime-cu12, nvidia-cuda-nvrtc-cu12, nvidia-cuda-cupti-cu12, nvidia-cublas-cu12, nvidia-cusparse-cu12, nvidia-cudnn-cu12, nvidia-cusolver-cu12, pgmpy\n",
            "  Attempting uninstall: nvidia-nvjitlink-cu12\n",
            "    Found existing installation: nvidia-nvjitlink-cu12 12.5.82\n",
            "    Uninstalling nvidia-nvjitlink-cu12-12.5.82:\n",
            "      Successfully uninstalled nvidia-nvjitlink-cu12-12.5.82\n",
            "  Attempting uninstall: nvidia-curand-cu12\n",
            "    Found existing installation: nvidia-curand-cu12 10.3.6.82\n",
            "    Uninstalling nvidia-curand-cu12-10.3.6.82:\n",
            "      Successfully uninstalled nvidia-curand-cu12-10.3.6.82\n",
            "  Attempting uninstall: nvidia-cufft-cu12\n",
            "    Found existing installation: nvidia-cufft-cu12 11.2.3.61\n",
            "    Uninstalling nvidia-cufft-cu12-11.2.3.61:\n",
            "      Successfully uninstalled nvidia-cufft-cu12-11.2.3.61\n",
            "  Attempting uninstall: nvidia-cuda-runtime-cu12\n",
            "    Found existing installation: nvidia-cuda-runtime-cu12 12.5.82\n",
            "    Uninstalling nvidia-cuda-runtime-cu12-12.5.82:\n",
            "      Successfully uninstalled nvidia-cuda-runtime-cu12-12.5.82\n",
            "  Attempting uninstall: nvidia-cuda-nvrtc-cu12\n",
            "    Found existing installation: nvidia-cuda-nvrtc-cu12 12.5.82\n",
            "    Uninstalling nvidia-cuda-nvrtc-cu12-12.5.82:\n",
            "      Successfully uninstalled nvidia-cuda-nvrtc-cu12-12.5.82\n",
            "  Attempting uninstall: nvidia-cuda-cupti-cu12\n",
            "    Found existing installation: nvidia-cuda-cupti-cu12 12.5.82\n",
            "    Uninstalling nvidia-cuda-cupti-cu12-12.5.82:\n",
            "      Successfully uninstalled nvidia-cuda-cupti-cu12-12.5.82\n",
            "  Attempting uninstall: nvidia-cublas-cu12\n",
            "    Found existing installation: nvidia-cublas-cu12 12.5.3.2\n",
            "    Uninstalling nvidia-cublas-cu12-12.5.3.2:\n",
            "      Successfully uninstalled nvidia-cublas-cu12-12.5.3.2\n",
            "  Attempting uninstall: nvidia-cusparse-cu12\n",
            "    Found existing installation: nvidia-cusparse-cu12 12.5.1.3\n",
            "    Uninstalling nvidia-cusparse-cu12-12.5.1.3:\n",
            "      Successfully uninstalled nvidia-cusparse-cu12-12.5.1.3\n",
            "  Attempting uninstall: nvidia-cudnn-cu12\n",
            "    Found existing installation: nvidia-cudnn-cu12 9.3.0.75\n",
            "    Uninstalling nvidia-cudnn-cu12-9.3.0.75:\n",
            "      Successfully uninstalled nvidia-cudnn-cu12-9.3.0.75\n",
            "  Attempting uninstall: nvidia-cusolver-cu12\n",
            "    Found existing installation: nvidia-cusolver-cu12 11.6.3.83\n",
            "    Uninstalling nvidia-cusolver-cu12-11.6.3.83:\n",
            "      Successfully uninstalled nvidia-cusolver-cu12-11.6.3.83\n",
            "Successfully installed nvidia-cublas-cu12-12.4.5.8 nvidia-cuda-cupti-cu12-12.4.127 nvidia-cuda-nvrtc-cu12-12.4.127 nvidia-cuda-runtime-cu12-12.4.127 nvidia-cudnn-cu12-9.1.0.70 nvidia-cufft-cu12-11.2.1.3 nvidia-curand-cu12-10.3.5.147 nvidia-cusolver-cu12-11.6.1.9 nvidia-cusparse-cu12-12.3.1.170 nvidia-nvjitlink-cu12-12.4.127 pgmpy-0.1.26\n"
          ]
        }
      ],
      "source": [
        "!pip install pgmpy"
      ]
    },
    {
      "cell_type": "code",
      "execution_count": 2,
      "metadata": {
        "id": "LWHBvyEdP5pI"
      },
      "outputs": [],
      "source": [
        "import networkx as nx\n",
        "import warnings\n",
        "warnings.simplefilter('ignore')\n",
        "import pylab as plt\n",
        "from pgmpy.models.BayesianModel import BayesianNetwork"
      ]
    },
    {
      "cell_type": "markdown",
      "metadata": {
        "id": "C9Uqph8wPIE7",
        "papermill": {
          "duration": 0.010708,
          "end_time": "2021-04-20T21:06:55.479480",
          "exception": false,
          "start_time": "2021-04-20T21:06:55.468772",
          "status": "completed"
        },
        "tags": []
      },
      "source": [
        "# Graphs for 401(K) Analsyis\n"
      ]
    },
    {
      "cell_type": "markdown",
      "metadata": {
        "id": "B2_fiQOEPIE7",
        "papermill": {
          "duration": 0.010554,
          "end_time": "2021-04-20T21:06:55.500684",
          "exception": false,
          "start_time": "2021-04-20T21:06:55.490130",
          "status": "completed"
        },
        "tags": []
      },
      "source": [
        "Here we have\n",
        " * $Y$ -- net financial assets;\n",
        " * $X$ -- worker characteristics (income, family size, other retirement plans; see lecture notes for details);\n",
        " * $F$ -- latent (unobserved) firm characteristics\n",
        " * $D$ -- 401(K) eligibility, deterimined by $F$ and $X$"
      ]
    },
    {
      "cell_type": "markdown",
      "metadata": {
        "id": "-U6yQWBgPIE7",
        "papermill": {
          "duration": 0.010886,
          "end_time": "2021-04-20T21:06:55.522231",
          "exception": false,
          "start_time": "2021-04-20T21:06:55.511345",
          "status": "completed"
        },
        "tags": []
      },
      "source": [
        "**One graph (where F determines X):**\n"
      ]
    },
    {
      "cell_type": "code",
      "execution_count": 3,
      "metadata": {
        "id": "begOa2wrY93O",
        "outputId": "a1f35698-912f-4a85-fb2c-f322b198cb24",
        "colab": {
          "base_uri": "https://localhost:8080/",
          "height": 516
        }
      },
      "outputs": [
        {
          "output_type": "display_data",
          "data": {
            "text/plain": [
              "<Figure size 640x480 with 1 Axes>"
            ],
            "image/png": "[encoded data removed]"
          },
          "metadata": {}
        }
      ],
      "source": [
        "G = BayesianNetwork(ebunch=[('D', 'Y'),\n",
        "                            ('X', 'D'),\n",
        "                            ('F', 'X'),\n",
        "                            ('F', 'D'),\n",
        "                            ('X', 'Y')],\n",
        "                    latents=['F'])\n",
        "nx.draw_planar(G, with_labels=True)\n",
        "plt.show()"
      ]
    },
    {
      "cell_type": "markdown",
      "metadata": {
        "id": "xwy7BUBGPIE7",
        "papermill": {
          "duration": 0.011939,
          "end_time": "2021-04-20T21:06:56.517753",
          "exception": false,
          "start_time": "2021-04-20T21:06:56.505814",
          "status": "completed"
        },
        "tags": []
      },
      "source": [
        "**List minimal adjustment sets to identify causal effects $D \\to Y$**"
      ]
    },
    {
      "cell_type": "code",
      "execution_count": 4,
      "metadata": {
        "id": "WmA30w14PIE7",
        "papermill": {
          "duration": 0.960286,
          "end_time": "2021-04-20T21:06:56.493094",
          "exception": false,
          "start_time": "2021-04-20T21:06:55.532808",
          "status": "completed"
        },
        "tags": []
      },
      "outputs": [],
      "source": [
        "from pgmpy.inference.CausalInference import CausalInference\n",
        "\n",
        "inference = CausalInference(BayesianNetwork(G))"
      ]
    },
    {
      "cell_type": "code",
      "execution_count": 5,
      "metadata": {
        "id": "r0Y8t6Xpldqo",
        "outputId": "42f27d73-341d-44c2-c124-8d68546368da",
        "colab": {
          "base_uri": "https://localhost:8080/"
        }
      },
      "outputs": [
        {
          "output_type": "stream",
          "name": "stdout",
          "text": [
            "frozenset({frozenset({'X'})})\n"
          ]
        }
      ],
      "source": [
        "try:\n",
        "    print(inference.get_all_backdoor_adjustment_sets('D', 'Y'))\n",
        "except ValueError as e:\n",
        "    print(e.args[0])"
      ]
    },
    {
      "cell_type": "code",
      "execution_count": 6,
      "metadata": {
        "id": "1sN1LTGplguG",
        "outputId": "56d7a873-eeb2-4328-9c4f-bcd346e64bc8",
        "colab": {
          "base_uri": "https://localhost:8080/"
        }
      },
      "outputs": [
        {
          "output_type": "execute_result",
          "data": {
            "text/plain": [
              "True"
            ]
          },
          "metadata": {},
          "execution_count": 6
        }
      ],
      "source": [
        "inference.is_valid_backdoor_adjustment_set('D', 'Y', \"X\")"
      ]
    },
    {
      "cell_type": "markdown",
      "metadata": {
        "id": "gkQCVQpoPIE8",
        "papermill": {
          "duration": 0.012126,
          "end_time": "2021-04-20T21:06:56.600815",
          "exception": false,
          "start_time": "2021-04-20T21:06:56.588689",
          "status": "completed"
        },
        "tags": []
      },
      "source": [
        "**What is the underlying principle?**\n",
        "\n",
        "Here conditioning on X blocks backdoor paths from Y to D (Pearl).  Dagitty correctly finds X (and does many more correct decisions, when we consider more elaborate structures. Why do we want to consider more elaborate structures? The very empirical problem requires us to do so!)"
      ]
    },
    {
      "cell_type": "markdown",
      "metadata": {
        "id": "SyCZsVL2PIE8",
        "papermill": {
          "duration": 0.012073,
          "end_time": "2021-04-20T21:06:56.625022",
          "exception": false,
          "start_time": "2021-04-20T21:06:56.612949",
          "status": "completed"
        },
        "tags": []
      },
      "source": [
        "**Another Graph (where $X$ determines $F$):**"
      ]
    },
    {
      "cell_type": "code",
      "execution_count": 7,
      "metadata": {
        "id": "6l83sAd8PIE8",
        "papermill": {
          "duration": 0.380125,
          "end_time": "2021-04-20T21:06:57.017337",
          "exception": false,
          "start_time": "2021-04-20T21:06:56.637212",
          "status": "completed"
        },
        "tags": [],
        "outputId": "52ff3c87-620a-45ba-8350-24a3e71cd8d2",
        "colab": {
          "base_uri": "https://localhost:8080/",
          "height": 516
        }
      },
      "outputs": [
        {
          "output_type": "display_data",
          "data": {
            "text/plain": [
              "<Figure size 640x480 with 1 Axes>"
            ],
            "image/png": "[encoded data removed]"
          },
          "metadata": {}
        }
      ],
      "source": [
        "G2 = BayesianNetwork(ebunch=[('D', 'Y'),\n",
        "                             ('X', 'D'),\n",
        "                             ('X', 'F'),\n",
        "                             ('F', 'D'),\n",
        "                             ('X', 'Y')],\n",
        "                     latents=['F'])\n",
        "nx.draw_planar(G2, with_labels=True)\n",
        "plt.show()"
      ]
    },
    {
      "cell_type": "code",
      "execution_count": 8,
      "metadata": {
        "id": "DZ7-ktDa5Rs1"
      },
      "outputs": [],
      "source": [
        "inference2 = CausalInference(BayesianNetwork(G2))"
      ]
    },
    {
      "cell_type": "code",
      "execution_count": 9,
      "metadata": {
        "id": "qXhEMpdXPIE9",
        "papermill": {
          "duration": 0.056051,
          "end_time": "2021-04-20T21:06:57.094387",
          "exception": false,
          "start_time": "2021-04-20T21:06:57.038336",
          "status": "completed"
        },
        "tags": [],
        "outputId": "da24886b-d37d-4a6f-a829-592f23289432",
        "colab": {
          "base_uri": "https://localhost:8080/"
        }
      },
      "outputs": [
        {
          "output_type": "stream",
          "name": "stdout",
          "text": [
            "frozenset({frozenset({'X'})})\n"
          ]
        }
      ],
      "source": [
        "try:\n",
        "    print(inference2.get_all_backdoor_adjustment_sets('D', 'Y'))\n",
        "except ValueError as e:\n",
        "    print(e.args[0])"
      ]
    },
    {
      "cell_type": "markdown",
      "metadata": {
        "id": "A6kFc2R1PIE9",
        "papermill": {
          "duration": 0.014464,
          "end_time": "2021-04-20T21:06:57.130426",
          "exception": false,
          "start_time": "2021-04-20T21:06:57.115962",
          "status": "completed"
        },
        "tags": []
      },
      "source": [
        "**One more graph (encompassing the previous ones), where (F, X) are jointly determined by latent factors $A$.**\n",
        "\n",
        "We can allow in fact the whole triple (D, F, X) to be jointly determined by latent factors $A$."
      ]
    },
    {
      "cell_type": "markdown",
      "metadata": {
        "id": "HJYKqepTPIE-",
        "papermill": {
          "duration": 0.014208,
          "end_time": "2021-04-20T21:06:57.159030",
          "exception": false,
          "start_time": "2021-04-20T21:06:57.144822",
          "status": "completed"
        },
        "tags": []
      },
      "source": [
        "This is much more realistic graph to consider."
      ]
    },
    {
      "cell_type": "code",
      "execution_count": 10,
      "metadata": {
        "id": "7O0MbTDCPIE-",
        "papermill": {
          "duration": 0.393034,
          "end_time": "2021-04-20T21:06:57.567429",
          "exception": false,
          "start_time": "2021-04-20T21:06:57.174395",
          "status": "completed"
        },
        "tags": [],
        "outputId": "e4a664ea-b081-40ae-877b-7f6615f9e8fe",
        "colab": {
          "base_uri": "https://localhost:8080/",
          "height": 516
        }
      },
      "outputs": [
        {
          "output_type": "display_data",
          "data": {
            "text/plain": [
              "<Figure size 640x480 with 1 Axes>"
            ],
            "image/png": "[encoded data removed]"
          },
          "metadata": {}
        }
      ],
      "source": [
        "G3 = BayesianNetwork(ebunch=[('D', 'Y'),\n",
        "                             ('X', 'D'),\n",
        "                             ('F', 'D'),\n",
        "                             ('A', 'F'),\n",
        "                             ('A', 'X'),\n",
        "                             ('A', 'D'),\n",
        "                             ('X', 'Y')],\n",
        "                     latents=['F'])\n",
        "\n",
        "nx.draw_planar(G3, with_labels=True)\n",
        "plt.show()"
      ]
    },
    {
      "cell_type": "code",
      "execution_count": 11,
      "metadata": {
        "id": "eHVC2QdO5pN5",
        "outputId": "e3efb079-672d-4300-f6a5-3fee13d816ac",
        "colab": {
          "base_uri": "https://localhost:8080/"
        }
      },
      "outputs": [
        {
          "output_type": "stream",
          "name": "stdout",
          "text": [
            "frozenset({frozenset({'X'})})\n"
          ]
        }
      ],
      "source": [
        "inference3 = CausalInference(BayesianNetwork(G3))\n",
        "try:\n",
        "    print(inference3.get_all_backdoor_adjustment_sets('D', 'Y'))\n",
        "except ValueError as e:\n",
        "    print(e.args[0])"
      ]
    },
    {
      "cell_type": "markdown",
      "metadata": {
        "id": "Mjus09VjPIE-",
        "papermill": {
          "duration": 0.016255,
          "end_time": "2021-04-20T21:06:57.599705",
          "exception": false,
          "start_time": "2021-04-20T21:06:57.583450",
          "status": "completed"
        },
        "tags": []
      },
      "source": [
        "# Threat to Identification:\n",
        "\n",
        "What if $F$ also directly affects $Y$? (Note that there are no valid adjustment sets in this case.)"
      ]
    },
    {
      "cell_type": "code",
      "execution_count": 12,
      "metadata": {
        "id": "NjqrWLhXPIE-",
        "papermill": {
          "duration": 0.40878,
          "end_time": "2021-04-20T21:06:58.024720",
          "exception": false,
          "start_time": "2021-04-20T21:06:57.615940",
          "status": "completed"
        },
        "tags": [],
        "outputId": "7117ccbb-78b2-4c9e-d2fc-d9561a2d1c95",
        "colab": {
          "base_uri": "https://localhost:8080/",
          "height": 516
        }
      },
      "outputs": [
        {
          "output_type": "display_data",
          "data": {
            "text/plain": [
              "<Figure size 640x480 with 1 Axes>"
            ],
            "image/png": "[encoded data removed]"
          },
          "metadata": {}
        }
      ],
      "source": [
        "G4 = BayesianNetwork(ebunch=[('D', 'Y'),\n",
        "                             ('X', 'D'),\n",
        "                             ('F', 'D'),\n",
        "                             ('A', 'F'),\n",
        "                             ('A', 'X'),\n",
        "                             ('A', 'D'),\n",
        "                             ('F', 'Y'),\n",
        "                             ('X', 'Y')],\n",
        "                     latents=['F', 'A'])\n",
        "\n",
        "nx.draw_planar(G4, with_labels=True)\n",
        "plt.show()"
      ]
    },
    {
      "cell_type": "code",
      "execution_count": null,
      "metadata": {
        "id": "BfQZaKqFPIE_",
        "papermill": {
          "duration": 0.046811,
          "end_time": "2021-04-20T21:06:58.089616",
          "exception": false,
          "start_time": "2021-04-20T21:06:58.042805",
          "status": "completed"
        },
        "tags": []
      },
      "outputs": [],
      "source": [
        "inference4 = CausalInference(G4)\n",
        "try:\n",
        "    print(inference4.get_all_backdoor_adjustment_sets('D', 'Y'))\n",
        "except ValueError as e:\n",
        "    print(e.args[0])"
      ]
    },
    {
      "cell_type": "markdown",
      "metadata": {
        "id": "1Vz8Ply-PIE_",
        "papermill": {
          "duration": 0.017351,
          "end_time": "2021-04-20T21:06:58.124909",
          "exception": false,
          "start_time": "2021-04-20T21:06:58.107558",
          "status": "completed"
        },
        "tags": []
      },
      "source": [
        "Note that the error here! There is no valid adustment set (among observed variables)"
      ]
    },
    {
      "cell_type": "markdown",
      "metadata": {
        "id": "yF5-jrbKPIE_",
        "papermill": {
          "duration": 0.017324,
          "end_time": "2021-04-20T21:06:58.159612",
          "exception": false,
          "start_time": "2021-04-20T21:06:58.142288",
          "status": "completed"
        },
        "tags": []
      },
      "source": [
        "**How can F affect Y directly? Is it reasonable?**"
      ]
    },
    {
      "cell_type": "markdown",
      "metadata": {
        "id": "Tn6bYdP6PIE_",
        "papermill": {
          "duration": 0.017002,
          "end_time": "2021-04-20T21:06:58.193722",
          "exception": false,
          "start_time": "2021-04-20T21:06:58.176720",
          "status": "completed"
        },
        "tags": []
      },
      "source": [
        "Introduce Match Amount $M$. The match amount is a potential important mediator (why mediator?). $M$ is not observed. Luckily, adjusting for $X$ still works if there is no arrow $F \\to M$."
      ]
    },
    {
      "cell_type": "code",
      "execution_count": 13,
      "metadata": {
        "id": "L24XPvB8E7Mk",
        "outputId": "98f6329c-52ff-48b5-c48c-a92c6c4e074d",
        "colab": {
          "base_uri": "https://localhost:8080/",
          "height": 516
        }
      },
      "outputs": [
        {
          "output_type": "display_data",
          "data": {
            "text/plain": [
              "<Figure size 640x480 with 1 Axes>"
            ],
            "image/png": "[encoded data removed]"
          },
          "metadata": {}
        }
      ],
      "source": [
        "G5 = BayesianNetwork(ebunch=[('D', 'Y'),\n",
        "                             ('X', 'D'),\n",
        "                             ('F', 'D'),\n",
        "                             ('A', 'F'),\n",
        "                             ('A', 'X'),\n",
        "                             ('A', 'D'),\n",
        "                             ('D', 'M'),\n",
        "                             ('M', 'Y'),\n",
        "                             ('X', 'M'),\n",
        "                             ('X', 'Y')],\n",
        "                     latents=['F', 'A', 'M'])\n",
        "\n",
        "nx.draw_planar(G5, with_labels=True)\n",
        "plt.show()"
      ]
    },
    {
      "cell_type": "code",
      "execution_count": 14,
      "metadata": {
        "id": "zeHCBCtZFObD",
        "outputId": "26b21860-b498-4f35-b0e8-906e013a9d9b",
        "colab": {
          "base_uri": "https://localhost:8080/"
        }
      },
      "outputs": [
        {
          "output_type": "stream",
          "name": "stdout",
          "text": [
            "frozenset({frozenset({'X'})})\n"
          ]
        }
      ],
      "source": [
        "inference5 = CausalInference(G5)\n",
        "try:\n",
        "    print(inference5.get_all_backdoor_adjustment_sets('D', 'Y'))\n",
        "except ValueError as e:\n",
        "    print(e.args[0])"
      ]
    },
    {
      "cell_type": "markdown",
      "metadata": {
        "id": "o9-rScGhPIFA",
        "papermill": {
          "duration": 0.019066,
          "end_time": "2021-04-20T21:06:58.635211",
          "exception": false,
          "start_time": "2021-04-20T21:06:58.616145",
          "status": "completed"
        },
        "tags": []
      },
      "source": [
        "If there is $F \\to M$ arrow, then adjusting for $X$ is not sufficient."
      ]
    },
    {
      "cell_type": "code",
      "execution_count": 15,
      "metadata": {
        "id": "IGI7piKFPIFA",
        "papermill": {
          "duration": 0.365274,
          "end_time": "2021-04-20T21:06:59.019538",
          "exception": false,
          "start_time": "2021-04-20T21:06:58.654264",
          "status": "completed"
        },
        "tags": [],
        "outputId": "de557411-7419-4c3e-af70-6be88f674fbc",
        "colab": {
          "base_uri": "https://localhost:8080/",
          "height": 516
        }
      },
      "outputs": [
        {
          "output_type": "display_data",
          "data": {
            "text/plain": [
              "<Figure size 640x480 with 1 Axes>"
            ],
            "image/png": "[encoded data removed]"
          },
          "metadata": {}
        }
      ],
      "source": [
        "G6 = BayesianNetwork(ebunch=[('D', 'Y'),\n",
        "                             ('X', 'D'),\n",
        "                             ('F', 'D'),\n",
        "                             ('A', 'F'),\n",
        "                             ('A', 'X'),\n",
        "                             ('A', 'D'),\n",
        "                             ('D', 'M'),\n",
        "                             ('F', 'M'),\n",
        "                             ('M', 'Y'),\n",
        "                             ('X', 'M'),\n",
        "                             ('X', 'Y')],\n",
        "                     latents=['F', 'A', 'M'])\n",
        "\n",
        "nx.draw_planar(G6, with_labels=True)\n",
        "plt.show()"
      ]
    },
    {
      "cell_type": "code",
      "execution_count": 16,
      "metadata": {
        "id": "qNc9JP-fFdVn",
        "outputId": "b52e1c5d-fdc3-4454-81fe-05d2932f7dec",
        "colab": {
          "base_uri": "https://localhost:8080/"
        }
      },
      "outputs": [
        {
          "output_type": "stream",
          "name": "stdout",
          "text": [
            "No valid adjustment set found for D -> Y\n"
          ]
        }
      ],
      "source": [
        "inference6 = CausalInference(G6)\n",
        "try:\n",
        "    print(inference6.get_all_backdoor_adjustment_sets('D', 'Y'))\n",
        "except ValueError as e:\n",
        "    print(e.args[0])"
      ]
    },
    {
      "cell_type": "markdown",
      "metadata": {
        "id": "X7dEsQCptm65"
      },
      "source": [
        "Again, note the error here. There is no valid adjustment set."
      ]
    },
    {
      "cell_type": "markdown",
      "metadata": {
        "id": "oMDvjvSNPIFA",
        "papermill": {
          "duration": 0.020751,
          "end_time": "2021-04-20T21:06:59.062138",
          "exception": false,
          "start_time": "2021-04-20T21:06:59.041387",
          "status": "completed"
        },
        "tags": []
      },
      "source": [
        " # Question:\n",
        "\n",
        "Given the analysis above, do you find the adjustment for workers' characteristics a credible strategy to identify the causal (total effect) of 401 (k) elligibility on net financial wealth?\n"
      ]
    }
  ],
  "metadata": {
    "colab": {
      "provenance": []
    },
    "kernelspec": {
      "display_name": "Python 3 (ipykernel)",
      "language": "python",
      "name": "python3"
    },
    "language_info": {
      "codemirror_mode": {
        "name": "ipython",
        "version": 3
      },
      "file_extension": ".py",
      "mimetype": "text/x-python",
      "name": "python",
      "nbconvert_exporter": "python",
      "pygments_lexer": "ipython3",
      "version": "3.11.5"
    },
    "papermill": {
      "default_parameters": {},
      "duration": 32.278732,
      "end_time": "2021-04-20T21:06:59.193141",
      "environment_variables": {},
      "exception": null,
      "input_path": "__notebook__.ipynb",
      "output_path": "__notebook__.ipynb",
      "parameters": {},
      "start_time": "2021-04-20T21:06:26.914409",
      "version": "2.2.2"
    }
  },
  "nbformat": 4,
  "nbformat_minor": 0
}